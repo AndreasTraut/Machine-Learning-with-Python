{
 "cells": [
  {
   "cell_type": "markdown",
   "metadata": {},
   "source": [
    "# Movies Example - Predicing the \"NaN\"-values"
   ]
  },
  {
   "cell_type": "markdown",
   "metadata": {},
   "source": [
    "Author: Andreas Traut"
   ]
  },
  {
   "cell_type": "markdown",
   "metadata": {},
   "source": [
    "In this example I used a dataset which contains the following columns: "
   ]
  },
  {
   "cell_type": "markdown",
   "metadata": {},
   "source": [
    " Rank | Title | Year | Score | Metascore | Genre | Vote | Director | Runtime | **Revenue** | Description | RevCat"
   ]
  },
  {
   "cell_type": "markdown",
   "metadata": {},
   "source": [
    "My aim was to predict the **Revenue** based on the other information. There are some \"NaN\"-values in the column \"Revenue\" and instead of filling them with an assumption (e.g. median-value) as I did in another Jupiter-Notebook, I wanted to predict these values. Therefore I did the following:\n",
    "- I separated the rows with \"NaN\"-values in column \"Revenue\"\n",
    "- I drew a stratified sample (based on \"Revenue\") on this remaining dataset and I received a training dataset and testing dataset:"
   ]
  },
  {
   "cell_type": "code",
   "execution_count": 1,
   "metadata": {},
   "outputs": [
    {
     "data": {
      "text/plain": [
       "<function matplotlib.pyplot.show(close=None, block=None)>"
      ]
     },
     "execution_count": 1,
     "metadata": {},
     "output_type": "execute_result"
    },
    {
     "data": {
      "image/png": "[encoded data removed]",
      "text/plain": [
       "<Figure size 432x288 with 1 Axes>"
      ]
     },
     "metadata": {},
     "output_type": "display_data"
    }
   ],
   "source": [
    "import matplotlib.pyplot as plt\n",
    "fig, axs = plt.subplots()\n",
    "axs.pie([747, 6726, 2527], labels=['training data', 'testing data', 'Revenue=NaN'])\n",
    "plt.show"
   ]
  },
  {
   "cell_type": "markdown",
   "metadata": {},
   "source": [
    "- I created a pipeline to fill the \"NaN\"-value in other columns (e.g. \"Metascore\", \"Score\"). \n",
    "- used the training dataset and fittet it with the \"DecisionTreeRegressor\" model\n",
    "- verified with a cross-validation, how good this model/parameters are\n",
    "- did a prediction on a subset of the testing dataset and did a side-by-side comparison of prediction and true value\n",
    "- performed a prediction on the testing dataset and calculated the mean-squared error"
   ]
  },
  {
   "cell_type": "code",
   "execution_count": 2,
   "metadata": {},
   "outputs": [],
   "source": [
    "import os\n",
    "import pandas as pd\n",
    "import numpy as np\n",
    "import matplotlib.pyplot as plt\n",
    "from sklearn.model_selection import train_test_split\n",
    "from sklearn.model_selection import StratifiedShuffleSplit\n",
    "from sklearn.impute import SimpleImputer\n",
    "from sklearn.compose import ColumnTransformer\n",
    "from sklearn.preprocessing import StandardScaler\n",
    "#from sklearn.preprocessing import OneHotEncoder  we will need this later\n",
    "from sklearn.pipeline import Pipeline\n",
    "from sklearn.linear_model import LinearRegression\n",
    "from sklearn.tree import DecisionTreeRegressor\n",
    "from sklearn.metrics import mean_squared_error\n",
    "from sklearn.model_selection import cross_val_score"
   ]
  },
  {
   "cell_type": "code",
   "execution_count": 3,
   "metadata": {},
   "outputs": [],
   "source": [
    "PATH = os.path.join(\"datasets\", \"movies\")"
   ]
  },
  {
   "cell_type": "code",
   "execution_count": 4,
   "metadata": {},
   "outputs": [],
   "source": [
    "def format_plot(ax, title, feature1, feature2):\n",
    "    #ax.xaxis.set_major_formatter(plt.NullFormatter())\n",
    "    #ax.yaxis.set_major_formatter(plt.NullFormatter())\n",
    "    ax.set_xlabel(feature1, color='gray')\n",
    "    ax.set_ylabel(feature2, color='gray')\n",
    "    ax.set_title(title, color='gray')"
   ]
  },
  {
   "cell_type": "markdown",
   "metadata": {},
   "source": [
    "# Importing the data"
   ]
  },
  {
   "cell_type": "markdown",
   "metadata": {},
   "source": [
    "The movies dataset can be found here: https://www.kaggle.com/isaactaylorofficial/imdb-10000-most-voted-feature-films-041118"
   ]
  },
  {
   "cell_type": "code",
   "execution_count": 5,
   "metadata": {},
   "outputs": [],
   "source": [
    "def load_data(path=PATH):\n",
    "    csv_path = os.path.join(path, \"movies.csv\")\n",
    "    return pd.read_csv(csv_path)"
   ]
  },
  {
   "cell_type": "code",
   "execution_count": 6,
   "metadata": {},
   "outputs": [
    {
     "data": {
      "text/html": [
       "<div>\n",
       "<style scoped>\n",
       "    .dataframe tbody tr th:only-of-type {\n",
       "        vertical-align: middle;\n",
       "    }\n",
       "\n",
       "    .dataframe tbody tr th {\n",
       "        vertical-align: top;\n",
       "    }\n",
       "\n",
       "    .dataframe thead th {\n",
       "        text-align: right;\n",
       "    }\n",
       "</style>\n",
       "<table border=\"1\" class=\"dataframe\">\n",
       "  <thead>\n",
       "    <tr style=\"text-align: right;\">\n",
       "      <th></th>\n",
       "      <th>Rank</th>\n",
       "      <th>Title</th>\n",
       "      <th>Year</th>\n",
       "      <th>Score</th>\n",
       "      <th>Metascore</th>\n",
       "      <th>Genre</th>\n",
       "      <th>Vote</th>\n",
       "      <th>Director</th>\n",
       "      <th>Runtime</th>\n",
       "      <th>Revenue</th>\n",
       "      <th>Description</th>\n",
       "    </tr>\n",
       "  </thead>\n",
       "  <tbody>\n",
       "    <tr>\n",
       "      <th>0</th>\n",
       "      <td>1</td>\n",
       "      <td>The Shawshank Redemption</td>\n",
       "      <td>1994</td>\n",
       "      <td>9.3</td>\n",
       "      <td>80.0</td>\n",
       "      <td>Drama</td>\n",
       "      <td>2011509</td>\n",
       "      <td>Frank Darabont</td>\n",
       "      <td>142</td>\n",
       "      <td>28.34</td>\n",
       "      <td>Two imprisoned men bond over a number of years...</td>\n",
       "    </tr>\n",
       "    <tr>\n",
       "      <th>1</th>\n",
       "      <td>2</td>\n",
       "      <td>The Dark Knight</td>\n",
       "      <td>2008</td>\n",
       "      <td>9.0</td>\n",
       "      <td>84.0</td>\n",
       "      <td>Action, Crime, Drama</td>\n",
       "      <td>1980200</td>\n",
       "      <td>Christopher Nolan</td>\n",
       "      <td>152</td>\n",
       "      <td>534.86</td>\n",
       "      <td>When the menace known as the Joker emerges fro...</td>\n",
       "    </tr>\n",
       "    <tr>\n",
       "      <th>2</th>\n",
       "      <td>3</td>\n",
       "      <td>Inception</td>\n",
       "      <td>2010</td>\n",
       "      <td>8.8</td>\n",
       "      <td>74.0</td>\n",
       "      <td>Action, Adventure, Sci-Fi</td>\n",
       "      <td>1760209</td>\n",
       "      <td>Christopher Nolan</td>\n",
       "      <td>148</td>\n",
       "      <td>292.58</td>\n",
       "      <td>A thief who steals corporate secrets through t...</td>\n",
       "    </tr>\n",
       "    <tr>\n",
       "      <th>3</th>\n",
       "      <td>4</td>\n",
       "      <td>Fight Club</td>\n",
       "      <td>1999</td>\n",
       "      <td>8.8</td>\n",
       "      <td>66.0</td>\n",
       "      <td>Drama</td>\n",
       "      <td>1609459</td>\n",
       "      <td>David Fincher</td>\n",
       "      <td>139</td>\n",
       "      <td>37.03</td>\n",
       "      <td>An insomniac office worker and a devil-may-car...</td>\n",
       "    </tr>\n",
       "    <tr>\n",
       "      <th>4</th>\n",
       "      <td>5</td>\n",
       "      <td>Pulp Fiction</td>\n",
       "      <td>1994</td>\n",
       "      <td>8.9</td>\n",
       "      <td>94.0</td>\n",
       "      <td>Crime, Drama</td>\n",
       "      <td>1570194</td>\n",
       "      <td>Quentin Tarantino</td>\n",
       "      <td>154</td>\n",
       "      <td>107.93</td>\n",
       "      <td>The lives of two mob hitmen, a boxer, a gangst...</td>\n",
       "    </tr>\n",
       "  </tbody>\n",
       "</table>\n",
       "</div>"
      ],
      "text/plain": [
       "   Rank                     Title  Year  Score  Metascore  \\\n",
       "0     1  The Shawshank Redemption  1994    9.3       80.0   \n",
       "1     2           The Dark Knight  2008    9.0       84.0   \n",
       "2     3                 Inception  2010    8.8       74.0   \n",
       "3     4                Fight Club  1999    8.8       66.0   \n",
       "4     5              Pulp Fiction  1994    8.9       94.0   \n",
       "\n",
       "                       Genre     Vote           Director  Runtime  Revenue  \\\n",
       "0                      Drama  2011509     Frank Darabont      142    28.34   \n",
       "1       Action, Crime, Drama  1980200  Christopher Nolan      152   534.86   \n",
       "2  Action, Adventure, Sci-Fi  1760209  Christopher Nolan      148   292.58   \n",
       "3                      Drama  1609459      David Fincher      139    37.03   \n",
       "4               Crime, Drama  1570194  Quentin Tarantino      154   107.93   \n",
       "\n",
       "                                         Description  \n",
       "0  Two imprisoned men bond over a number of years...  \n",
       "1  When the menace known as the Joker emerges fro...  \n",
       "2  A thief who steals corporate secrets through t...  \n",
       "3  An insomniac office worker and a devil-may-car...  \n",
       "4  The lives of two mob hitmen, a boxer, a gangst...  "
      ]
     },
     "execution_count": 6,
     "metadata": {},
     "output_type": "execute_result"
    }
   ],
   "source": [
    "movies = load_data()\n",
    "movies.head()"
   ]
  },
  {
   "cell_type": "code",
   "execution_count": 7,
   "metadata": {},
   "outputs": [
    {
     "data": {
      "text/plain": [
       "Rank             int64\n",
       "Title           object\n",
       "Year             int64\n",
       "Score          float64\n",
       "Metascore      float64\n",
       "Genre           object\n",
       "Vote             int64\n",
       "Director        object\n",
       "Runtime          int64\n",
       "Revenue        float64\n",
       "Description     object\n",
       "dtype: object"
      ]
     },
     "execution_count": 7,
     "metadata": {},
     "output_type": "execute_result"
    }
   ],
   "source": [
    "movies.dtypes"
   ]
  },
  {
   "cell_type": "code",
   "execution_count": 8,
   "metadata": {},
   "outputs": [
    {
     "name": "stdout",
     "output_type": "stream",
     "text": [
      "<class 'pandas.core.frame.DataFrame'>\n",
      "RangeIndex: 10000 entries, 0 to 9999\n",
      "Data columns (total 11 columns):\n",
      " #   Column       Non-Null Count  Dtype  \n",
      "---  ------       --------------  -----  \n",
      " 0   Rank         10000 non-null  int64  \n",
      " 1   Title        10000 non-null  object \n",
      " 2   Year         10000 non-null  int64  \n",
      " 3   Score        10000 non-null  float64\n",
      " 4   Metascore    6781 non-null   float64\n",
      " 5   Genre        10000 non-null  object \n",
      " 6   Vote         10000 non-null  int64  \n",
      " 7   Director     9999 non-null   object \n",
      " 8   Runtime      10000 non-null  int64  \n",
      " 9   Revenue      7473 non-null   float64\n",
      " 10  Description  10000 non-null  object \n",
      "dtypes: float64(3), int64(4), object(4)\n",
      "memory usage: 859.5+ KB\n"
     ]
    }
   ],
   "source": [
    "movies.info()"
   ]
  },
  {
   "cell_type": "markdown",
   "metadata": {},
   "source": [
    "# \"NaN\"-values in column \"Revenue\""
   ]
  },
  {
   "cell_type": "markdown",
   "metadata": {},
   "source": [
    "In column \"Revenue\" there are 7473 \"non-null\" values, and 2527 \"null\" values:"
   ]
  },
  {
   "cell_type": "code",
   "execution_count": 9,
   "metadata": {},
   "outputs": [
    {
     "data": {
      "text/plain": [
       "2527"
      ]
     },
     "execution_count": 9,
     "metadata": {},
     "output_type": "execute_result"
    }
   ],
   "source": [
    "10000-7473"
   ]
  },
  {
   "cell_type": "markdown",
   "metadata": {},
   "source": [
    "These are the datarows, where column \"Revenue\" is null: "
   ]
  },
  {
   "cell_type": "code",
   "execution_count": 10,
   "metadata": {},
   "outputs": [
    {
     "data": {
      "text/html": [
       "<div>\n",
       "<style scoped>\n",
       "    .dataframe tbody tr th:only-of-type {\n",
       "        vertical-align: middle;\n",
       "    }\n",
       "\n",
       "    .dataframe tbody tr th {\n",
       "        vertical-align: top;\n",
       "    }\n",
       "\n",
       "    .dataframe thead th {\n",
       "        text-align: right;\n",
       "    }\n",
       "</style>\n",
       "<table border=\"1\" class=\"dataframe\">\n",
       "  <thead>\n",
       "    <tr style=\"text-align: right;\">\n",
       "      <th></th>\n",
       "      <th>Rank</th>\n",
       "      <th>Title</th>\n",
       "      <th>Year</th>\n",
       "      <th>Score</th>\n",
       "      <th>Metascore</th>\n",
       "      <th>Genre</th>\n",
       "      <th>Vote</th>\n",
       "      <th>Director</th>\n",
       "      <th>Runtime</th>\n",
       "      <th>Revenue</th>\n",
       "      <th>Description</th>\n",
       "    </tr>\n",
       "  </thead>\n",
       "  <tbody>\n",
       "    <tr>\n",
       "      <th>82</th>\n",
       "      <td>83</td>\n",
       "      <td>A Clockwork Orange</td>\n",
       "      <td>1971</td>\n",
       "      <td>8.3</td>\n",
       "      <td>80.0</td>\n",
       "      <td>Crime, Drama, Sci-Fi</td>\n",
       "      <td>662768</td>\n",
       "      <td>Stanley Kubrick</td>\n",
       "      <td>136</td>\n",
       "      <td>NaN</td>\n",
       "      <td>In the future, a sadistic gang leader is impri...</td>\n",
       "    </tr>\n",
       "    <tr>\n",
       "      <th>513</th>\n",
       "      <td>514</td>\n",
       "      <td>To Kill a Mockingbird</td>\n",
       "      <td>1962</td>\n",
       "      <td>8.3</td>\n",
       "      <td>87.0</td>\n",
       "      <td>Crime, Drama</td>\n",
       "      <td>262064</td>\n",
       "      <td>Robert Mulligan</td>\n",
       "      <td>129</td>\n",
       "      <td>NaN</td>\n",
       "      <td>Atticus Finch, a lawyer in the Depression-era ...</td>\n",
       "    </tr>\n",
       "    <tr>\n",
       "      <th>581</th>\n",
       "      <td>582</td>\n",
       "      <td>Death Proof</td>\n",
       "      <td>2007</td>\n",
       "      <td>7.0</td>\n",
       "      <td>NaN</td>\n",
       "      <td>Action, Thriller</td>\n",
       "      <td>236539</td>\n",
       "      <td>Quentin Tarantino</td>\n",
       "      <td>113</td>\n",
       "      <td>NaN</td>\n",
       "      <td>Two separate sets of voluptuous women are stal...</td>\n",
       "    </tr>\n",
       "    <tr>\n",
       "      <th>620</th>\n",
       "      <td>621</td>\n",
       "      <td>My Neighbour Totoro</td>\n",
       "      <td>1988</td>\n",
       "      <td>8.2</td>\n",
       "      <td>86.0</td>\n",
       "      <td>Animation, Family, Fantasy</td>\n",
       "      <td>226126</td>\n",
       "      <td>Hayao Miyazaki</td>\n",
       "      <td>86</td>\n",
       "      <td>NaN</td>\n",
       "      <td>When two girls move to the country to be near ...</td>\n",
       "    </tr>\n",
       "    <tr>\n",
       "      <th>685</th>\n",
       "      <td>686</td>\n",
       "      <td>Hachi: A Dog's Tale</td>\n",
       "      <td>2009</td>\n",
       "      <td>8.1</td>\n",
       "      <td>NaN</td>\n",
       "      <td>Drama, Family</td>\n",
       "      <td>212349</td>\n",
       "      <td>Lasse Hallström</td>\n",
       "      <td>93</td>\n",
       "      <td>NaN</td>\n",
       "      <td>A college professor's bond with the abandoned ...</td>\n",
       "    </tr>\n",
       "  </tbody>\n",
       "</table>\n",
       "</div>"
      ],
      "text/plain": [
       "     Rank                  Title  Year  Score  Metascore  \\\n",
       "82     83     A Clockwork Orange  1971    8.3       80.0   \n",
       "513   514  To Kill a Mockingbird  1962    8.3       87.0   \n",
       "581   582            Death Proof  2007    7.0        NaN   \n",
       "620   621    My Neighbour Totoro  1988    8.2       86.0   \n",
       "685   686    Hachi: A Dog's Tale  2009    8.1        NaN   \n",
       "\n",
       "                          Genre    Vote           Director  Runtime  Revenue  \\\n",
       "82         Crime, Drama, Sci-Fi  662768    Stanley Kubrick      136      NaN   \n",
       "513                Crime, Drama  262064    Robert Mulligan      129      NaN   \n",
       "581            Action, Thriller  236539  Quentin Tarantino      113      NaN   \n",
       "620  Animation, Family, Fantasy  226126     Hayao Miyazaki       86      NaN   \n",
       "685               Drama, Family  212349    Lasse Hallström       93      NaN   \n",
       "\n",
       "                                           Description  \n",
       "82   In the future, a sadistic gang leader is impri...  \n",
       "513  Atticus Finch, a lawyer in the Depression-era ...  \n",
       "581  Two separate sets of voluptuous women are stal...  \n",
       "620  When two girls move to the country to be near ...  \n",
       "685  A college professor's bond with the abandoned ...  "
      ]
     },
     "execution_count": 10,
     "metadata": {},
     "output_type": "execute_result"
    }
   ],
   "source": [
    "movies_RevenueNaN = movies[movies[\"Revenue\"].isnull()]\n",
    "movies_RevenueNaN.head()"
   ]
  },
  {
   "cell_type": "code",
   "execution_count": 11,
   "metadata": {},
   "outputs": [
    {
     "data": {
      "text/plain": [
       "2527"
      ]
     },
     "execution_count": 11,
     "metadata": {},
     "output_type": "execute_result"
    }
   ],
   "source": [
    "len_movies_RevenueNaN = len(movies_RevenueNaN)\n",
    "len_movies_RevenueNaN"
   ]
  },
  {
   "cell_type": "code",
   "execution_count": 12,
   "metadata": {},
   "outputs": [
    {
     "data": {
      "text/html": [
       "<div>\n",
       "<style scoped>\n",
       "    .dataframe tbody tr th:only-of-type {\n",
       "        vertical-align: middle;\n",
       "    }\n",
       "\n",
       "    .dataframe tbody tr th {\n",
       "        vertical-align: top;\n",
       "    }\n",
       "\n",
       "    .dataframe thead th {\n",
       "        text-align: right;\n",
       "    }\n",
       "</style>\n",
       "<table border=\"1\" class=\"dataframe\">\n",
       "  <thead>\n",
       "    <tr style=\"text-align: right;\">\n",
       "      <th></th>\n",
       "      <th>Rank</th>\n",
       "      <th>Title</th>\n",
       "      <th>Year</th>\n",
       "      <th>Score</th>\n",
       "      <th>Metascore</th>\n",
       "      <th>Genre</th>\n",
       "      <th>Vote</th>\n",
       "      <th>Director</th>\n",
       "      <th>Runtime</th>\n",
       "      <th>Revenue</th>\n",
       "      <th>Description</th>\n",
       "    </tr>\n",
       "  </thead>\n",
       "  <tbody>\n",
       "    <tr>\n",
       "      <th>0</th>\n",
       "      <td>1</td>\n",
       "      <td>The Shawshank Redemption</td>\n",
       "      <td>1994</td>\n",
       "      <td>9.3</td>\n",
       "      <td>80.0</td>\n",
       "      <td>Drama</td>\n",
       "      <td>2011509</td>\n",
       "      <td>Frank Darabont</td>\n",
       "      <td>142</td>\n",
       "      <td>28.34</td>\n",
       "      <td>Two imprisoned men bond over a number of years...</td>\n",
       "    </tr>\n",
       "    <tr>\n",
       "      <th>1</th>\n",
       "      <td>2</td>\n",
       "      <td>The Dark Knight</td>\n",
       "      <td>2008</td>\n",
       "      <td>9.0</td>\n",
       "      <td>84.0</td>\n",
       "      <td>Action, Crime, Drama</td>\n",
       "      <td>1980200</td>\n",
       "      <td>Christopher Nolan</td>\n",
       "      <td>152</td>\n",
       "      <td>534.86</td>\n",
       "      <td>When the menace known as the Joker emerges fro...</td>\n",
       "    </tr>\n",
       "    <tr>\n",
       "      <th>2</th>\n",
       "      <td>3</td>\n",
       "      <td>Inception</td>\n",
       "      <td>2010</td>\n",
       "      <td>8.8</td>\n",
       "      <td>74.0</td>\n",
       "      <td>Action, Adventure, Sci-Fi</td>\n",
       "      <td>1760209</td>\n",
       "      <td>Christopher Nolan</td>\n",
       "      <td>148</td>\n",
       "      <td>292.58</td>\n",
       "      <td>A thief who steals corporate secrets through t...</td>\n",
       "    </tr>\n",
       "    <tr>\n",
       "      <th>3</th>\n",
       "      <td>4</td>\n",
       "      <td>Fight Club</td>\n",
       "      <td>1999</td>\n",
       "      <td>8.8</td>\n",
       "      <td>66.0</td>\n",
       "      <td>Drama</td>\n",
       "      <td>1609459</td>\n",
       "      <td>David Fincher</td>\n",
       "      <td>139</td>\n",
       "      <td>37.03</td>\n",
       "      <td>An insomniac office worker and a devil-may-car...</td>\n",
       "    </tr>\n",
       "    <tr>\n",
       "      <th>4</th>\n",
       "      <td>5</td>\n",
       "      <td>Pulp Fiction</td>\n",
       "      <td>1994</td>\n",
       "      <td>8.9</td>\n",
       "      <td>94.0</td>\n",
       "      <td>Crime, Drama</td>\n",
       "      <td>1570194</td>\n",
       "      <td>Quentin Tarantino</td>\n",
       "      <td>154</td>\n",
       "      <td>107.93</td>\n",
       "      <td>The lives of two mob hitmen, a boxer, a gangst...</td>\n",
       "    </tr>\n",
       "  </tbody>\n",
       "</table>\n",
       "</div>"
      ],
      "text/plain": [
       "   Rank                     Title  Year  Score  Metascore  \\\n",
       "0     1  The Shawshank Redemption  1994    9.3       80.0   \n",
       "1     2           The Dark Knight  2008    9.0       84.0   \n",
       "2     3                 Inception  2010    8.8       74.0   \n",
       "3     4                Fight Club  1999    8.8       66.0   \n",
       "4     5              Pulp Fiction  1994    8.9       94.0   \n",
       "\n",
       "                       Genre     Vote           Director  Runtime  Revenue  \\\n",
       "0                      Drama  2011509     Frank Darabont      142    28.34   \n",
       "1       Action, Crime, Drama  1980200  Christopher Nolan      152   534.86   \n",
       "2  Action, Adventure, Sci-Fi  1760209  Christopher Nolan      148   292.58   \n",
       "3                      Drama  1609459      David Fincher      139    37.03   \n",
       "4               Crime, Drama  1570194  Quentin Tarantino      154   107.93   \n",
       "\n",
       "                                         Description  \n",
       "0  Two imprisoned men bond over a number of years...  \n",
       "1  When the menace known as the Joker emerges fro...  \n",
       "2  A thief who steals corporate secrets through t...  \n",
       "3  An insomniac office worker and a devil-may-car...  \n",
       "4  The lives of two mob hitmen, a boxer, a gangst...  "
      ]
     },
     "execution_count": 12,
     "metadata": {},
     "output_type": "execute_result"
    }
   ],
   "source": [
    "movies_NotNull = movies[movies[\"Revenue\"].notnull()]\n",
    "movies_NotNull.head()"
   ]
  },
  {
   "cell_type": "code",
   "execution_count": 13,
   "metadata": {},
   "outputs": [
    {
     "data": {
      "text/plain": [
       "7473"
      ]
     },
     "execution_count": 13,
     "metadata": {},
     "output_type": "execute_result"
    }
   ],
   "source": [
    "len_movies_NotNull = len(movies_NotNull)\n",
    "len_movies_NotNull"
   ]
  },
  {
   "cell_type": "code",
   "execution_count": 14,
   "metadata": {},
   "outputs": [
    {
     "data": {
      "text/plain": [
       "10000"
      ]
     },
     "execution_count": 14,
     "metadata": {},
     "output_type": "execute_result"
    }
   ],
   "source": [
    "len_movies_RevenueNaN + len_movies_NotNull"
   ]
  },
  {
   "cell_type": "code",
   "execution_count": 15,
   "metadata": {},
   "outputs": [
    {
     "data": {
      "text/plain": [
       "<function matplotlib.pyplot.show(close=None, block=None)>"
      ]
     },
     "execution_count": 15,
     "metadata": {},
     "output_type": "execute_result"
    },
    {
     "data": {
      "image/png": "[encoded data removed]",
      "text/plain": [
       "<Figure size 432x288 with 1 Axes>"
      ]
     },
     "metadata": {},
     "output_type": "display_data"
    }
   ],
   "source": [
    "fig, axs = plt.subplots()\n",
    "axs.pie([len_movies_RevenueNaN, len_movies_NotNull], \n",
    "        labels=['Revenue=NaN', 'Revenue NotNull'], \n",
    "        colors  = ['green', 'yellow']\n",
    "       )\n",
    "plt.show"
   ]
  },
  {
   "cell_type": "markdown",
   "metadata": {},
   "source": [
    "# Visualisation of the data"
   ]
  },
  {
   "cell_type": "code",
   "execution_count": 16,
   "metadata": {},
   "outputs": [
    {
     "data": {
      "text/plain": [
       "<AxesSubplot:>"
      ]
     },
     "execution_count": 16,
     "metadata": {},
     "output_type": "execute_result"
    },
    {
     "data": {
      "image/png": "[encoded data removed]",
      "text/plain": [
       "<Figure size 432x288 with 1 Axes>"
      ]
     },
     "metadata": {
      "needs_background": "light"
     },
     "output_type": "display_data"
    }
   ],
   "source": [
    "movies_NotNull['Revenue'].hist()"
   ]
  },
  {
   "cell_type": "code",
   "execution_count": 17,
   "metadata": {},
   "outputs": [
    {
     "data": {
      "text/plain": [
       "<AxesSubplot:>"
      ]
     },
     "execution_count": 17,
     "metadata": {},
     "output_type": "execute_result"
    },
    {
     "data": {
      "image/png": "[encoded data removed]",
      "text/plain": [
       "<Figure size 432x288 with 1 Axes>"
      ]
     },
     "metadata": {
      "needs_background": "light"
     },
     "output_type": "display_data"
    }
   ],
   "source": [
    "movies_RevenueNaN['Revenue'].hist()"
   ]
  },
  {
   "cell_type": "markdown",
   "metadata": {},
   "source": [
    "Some scatter plots to see, how \"Revenue\", \"Year\" and \"Score\" behave: "
   ]
  },
  {
   "cell_type": "code",
   "execution_count": 18,
   "metadata": {},
   "outputs": [
    {
     "data": {
      "image/png": "[encoded data removed]",
      "text/plain": [
       "<Figure size 576x432 with 2 Axes>"
      ]
     },
     "metadata": {
      "needs_background": "light"
     },
     "output_type": "display_data"
    }
   ],
   "source": [
    "fig, ax = plt.subplots(figsize=(8, 6))\n",
    "point_style = dict(cmap='Paired', s=50)\n",
    "pts = ax.scatter(movies_NotNull['Revenue'], movies_NotNull['Year'], c=movies_NotNull['Score'], s=10, alpha=0.8)\n",
    "cb = fig.colorbar(pts, ax=ax)\n",
    "\n",
    "# format plot\n",
    "format_plot(ax, 'Input Data', 'Revenue', 'Year')\n",
    "cb.set_ticks([])\n",
    "cb.set_label('Latent Variable: Score', color='gray')\n",
    "\n",
    "fig.savefig('images/movies/movies_revenue_year_score.png')"
   ]
  },
  {
   "cell_type": "markdown",
   "metadata": {},
   "source": [
    "The Revenue increased during the years from 1920 to 2020. "
   ]
  },
  {
   "cell_type": "code",
   "execution_count": 19,
   "metadata": {},
   "outputs": [
    {
     "data": {
      "text/plain": [
       "array([[<AxesSubplot:title={'center':'Rank'}>,\n",
       "        <AxesSubplot:title={'center':'Year'}>,\n",
       "        <AxesSubplot:title={'center':'Score'}>],\n",
       "       [<AxesSubplot:title={'center':'Metascore'}>,\n",
       "        <AxesSubplot:title={'center':'Vote'}>,\n",
       "        <AxesSubplot:title={'center':'Runtime'}>],\n",
       "       [<AxesSubplot:title={'center':'Revenue'}>, <AxesSubplot:>,\n",
       "        <AxesSubplot:>]], dtype=object)"
      ]
     },
     "execution_count": 19,
     "metadata": {},
     "output_type": "execute_result"
    },
    {
     "data": {
      "image/png": "[encoded data removed]",
      "text/plain": [
       "<Figure size 1440x1080 with 9 Axes>"
      ]
     },
     "metadata": {
      "needs_background": "light"
     },
     "output_type": "display_data"
    }
   ],
   "source": [
    "movies.hist(bins=50, figsize=(20,15))"
   ]
  },
  {
   "cell_type": "markdown",
   "metadata": {},
   "source": [
    "As the \"Rank\" is a continuous ascending index, the histogramm looks like an rectangle. \n",
    "The \"Runtime\" of an average movie is about 100 minutes, which makes sense. \n",
    "The shape of the \"Revenue\" histogramm also seems so make sense. \n",
    "The \"Metascore\" and \"Score\" have some interesting jags, which is due to the discrete values (1,2,3... but not 1.24 or 3.73), which these values can take. "
   ]
  },
  {
   "cell_type": "code",
   "execution_count": 20,
   "metadata": {},
   "outputs": [
    {
     "data": {
      "text/plain": [
       "array([[<AxesSubplot:title={'center':'Rank'}>,\n",
       "        <AxesSubplot:title={'center':'Year'}>,\n",
       "        <AxesSubplot:title={'center':'Score'}>],\n",
       "       [<AxesSubplot:title={'center':'Metascore'}>,\n",
       "        <AxesSubplot:title={'center':'Vote'}>,\n",
       "        <AxesSubplot:title={'center':'Runtime'}>],\n",
       "       [<AxesSubplot:title={'center':'Revenue'}>, <AxesSubplot:>,\n",
       "        <AxesSubplot:>]], dtype=object)"
      ]
     },
     "execution_count": 20,
     "metadata": {},
     "output_type": "execute_result"
    },
    {
     "data": {
      "image/png": "[encoded data removed]",
      "text/plain": [
       "<Figure size 1440x1080 with 9 Axes>"
      ]
     },
     "metadata": {
      "needs_background": "light"
     },
     "output_type": "display_data"
    }
   ],
   "source": [
    "movies_NotNull.hist(bins=50, figsize=(20,15))"
   ]
  },
  {
   "cell_type": "markdown",
   "metadata": {},
   "source": [
    "The difference in the \"Rank\" histogramm is because the row \"NaN\"-values in column \"Revenue\" are not included here. "
   ]
  },
  {
   "cell_type": "markdown",
   "metadata": {},
   "source": [
    "Examine how \"Year\", \"Score\" and \"Revenue\" behave: "
   ]
  },
  {
   "cell_type": "code",
   "execution_count": 21,
   "metadata": {},
   "outputs": [
    {
     "data": {
      "image/png": "[encoded data removed]",
      "text/plain": [
       "<Figure size 576x432 with 2 Axes>"
      ]
     },
     "metadata": {
      "needs_background": "light"
     },
     "output_type": "display_data"
    }
   ],
   "source": [
    "fig, ax = plt.subplots(figsize=(8, 6))\n",
    "point_style = dict(cmap='Paired', s=50)\n",
    "pts = ax.scatter(movies_NotNull['Year'], movies_NotNull['Score'], c=movies_NotNull['Revenue'], s=10, alpha=0.4)\n",
    "cb = fig.colorbar(pts, ax=ax)\n",
    "\n",
    "# format plot\n",
    "format_plot(ax, 'Input Data', 'Year', 'Score')\n",
    "cb.set_ticks([])\n",
    "cb.set_label('Latent Variable: Score', color='gray')\n",
    "\n",
    "fig.savefig('images/movies/movies_year_score_revenue.png')"
   ]
  },
  {
   "cell_type": "markdown",
   "metadata": {},
   "source": [
    "In 1920 most movies hat a score of 8. In 2020 most movies had a score between about 4 and 9. I think this is a bit strange, because I would have expected, that there are also movies with a lower score in 1920. "
   ]
  },
  {
   "cell_type": "markdown",
   "metadata": {},
   "source": [
    "# Stratified Sampling"
   ]
  },
  {
   "cell_type": "code",
   "execution_count": 22,
   "metadata": {},
   "outputs": [],
   "source": [
    "movies_NotNullC = movies_NotNull[:].copy(deep=True)"
   ]
  },
  {
   "cell_type": "code",
   "execution_count": 23,
   "metadata": {},
   "outputs": [
    {
     "data": {
      "text/plain": [
       "1    6753\n",
       "2     522\n",
       "3     120\n",
       "4      78\n",
       "Name: RevCat, dtype: int64"
      ]
     },
     "execution_count": 23,
     "metadata": {},
     "output_type": "execute_result"
    }
   ],
   "source": [
    "movies_NotNullC['RevCat']=pd.cut(movies_NotNullC['Revenue'], \n",
    "                        bins=[-1,100,200,300,np.inf], \n",
    "                        labels=[1, 2, 3, 4])\n",
    "movies_NotNullC['RevCat'].value_counts()"
   ]
  },
  {
   "cell_type": "code",
   "execution_count": 27,
   "metadata": {},
   "outputs": [
    {
     "data": {
      "text/plain": [
       "1    0.903653\n",
       "2    0.069851\n",
       "3    0.016058\n",
       "4    0.010438\n",
       "Name: RevCat, dtype: float64"
      ]
     },
     "execution_count": 27,
     "metadata": {},
     "output_type": "execute_result"
    }
   ],
   "source": [
    "movies_NotNullC[\"RevCat\"].value_counts() / len(movies_NotNullC)"
   ]
  },
  {
   "cell_type": "code",
   "execution_count": 28,
   "metadata": {},
   "outputs": [
    {
     "data": {
      "text/plain": [
       "7473"
      ]
     },
     "execution_count": 28,
     "metadata": {},
     "output_type": "execute_result"
    }
   ],
   "source": [
    "len(movies_NotNullC)"
   ]
  },
  {
   "cell_type": "code",
   "execution_count": 24,
   "metadata": {},
   "outputs": [],
   "source": [
    "split = StratifiedShuffleSplit(n_splits=1, test_size=0.9, random_state=42)\n",
    "for train_index, test_index in split.split(movies_NotNullC, movies_NotNullC[\"RevCat\"]):\n",
    "    strat_train_set = movies_NotNullC.iloc[train_index]\n",
    "    strat_test_set = movies_NotNullC.iloc[test_index]"
   ]
  },
  {
   "cell_type": "code",
   "execution_count": 29,
   "metadata": {},
   "outputs": [
    {
     "data": {
      "text/plain": [
       "1    0.903614\n",
       "2    0.069612\n",
       "3    0.016064\n",
       "4    0.010710\n",
       "Name: RevCat, dtype: float64"
      ]
     },
     "execution_count": 29,
     "metadata": {},
     "output_type": "execute_result"
    }
   ],
   "source": [
    "strat_train_set[\"RevCat\"].value_counts() / len(strat_train_set)"
   ]
  },
  {
   "cell_type": "code",
   "execution_count": 30,
   "metadata": {},
   "outputs": [
    {
     "data": {
      "text/plain": [
       "747"
      ]
     },
     "execution_count": 30,
     "metadata": {},
     "output_type": "execute_result"
    }
   ],
   "source": [
    "len(strat_train_set)"
   ]
  },
  {
   "cell_type": "code",
   "execution_count": 31,
   "metadata": {},
   "outputs": [
    {
     "data": {
      "text/plain": [
       "1    0.903657\n",
       "2    0.069878\n",
       "3    0.016057\n",
       "4    0.010407\n",
       "Name: RevCat, dtype: float64"
      ]
     },
     "execution_count": 31,
     "metadata": {},
     "output_type": "execute_result"
    }
   ],
   "source": [
    "strat_test_set[\"RevCat\"].value_counts() / len(strat_test_set)"
   ]
  },
  {
   "cell_type": "code",
   "execution_count": 32,
   "metadata": {},
   "outputs": [
    {
     "data": {
      "text/plain": [
       "6726"
      ]
     },
     "execution_count": 32,
     "metadata": {},
     "output_type": "execute_result"
    }
   ],
   "source": [
    "len(strat_test_set)"
   ]
  },
  {
   "cell_type": "code",
   "execution_count": 27,
   "metadata": {},
   "outputs": [
    {
     "name": "stdout",
     "output_type": "stream",
     "text": [
      "    Overall  Stratified    Random  Rand. %error  Strat. %error\n",
      "1  0.903653    0.903657  0.903063     -0.065336       0.000476\n",
      "2  0.069851    0.069878  0.069432     -0.600432       0.038109\n",
      "3  0.016058    0.016057  0.016652      3.699078      -0.004460\n",
      "4  0.010438    0.010407  0.010853      3.983966      -0.289348\n"
     ]
    },
    {
     "name": "stderr",
     "output_type": "stream",
     "text": [
      "C:\\Users\\andre\\Anaconda3\\lib\\site-packages\\pandas\\core\\frame.py:3997: SettingWithCopyWarning: \n",
      "A value is trying to be set on a copy of a slice from a DataFrame\n",
      "\n",
      "See the caveats in the documentation: https://pandas.pydata.org/pandas-docs/stable/user_guide/indexing.html#returning-a-view-versus-a-copy\n",
      "  errors=errors,\n"
     ]
    }
   ],
   "source": [
    "def revenue_cat_proportions(data):\n",
    "    return data[\"RevCat\"].value_counts() / len(data)\n",
    "\n",
    "train_set, test_set = train_test_split(movies_NotNullC, test_size=0.9, random_state=42)\n",
    "\n",
    "compare_props = pd.DataFrame({\n",
    "    \"Overall\": revenue_cat_proportions(movies_NotNullC),\n",
    "    \"Stratified\": revenue_cat_proportions(strat_test_set),\n",
    "    \"Random\": revenue_cat_proportions(test_set),\n",
    "}).sort_index()\n",
    "\n",
    "compare_props[\"Rand. %error\"] = 100 * compare_props[\"Random\"] / compare_props[\"Overall\"] - 100\n",
    "compare_props[\"Strat. %error\"] = 100 * compare_props[\"Stratified\"] / compare_props[\"Overall\"] - 100\n",
    "\n",
    "print(compare_props)\n",
    "\n",
    "for set_ in (strat_train_set, strat_test_set):\n",
    "    set_.drop(\"RevCat\", axis=1, inplace=True)"
   ]
  },
  {
   "cell_type": "code",
   "execution_count": 28,
   "metadata": {},
   "outputs": [
    {
     "data": {
      "text/plain": [
       "747"
      ]
     },
     "execution_count": 28,
     "metadata": {},
     "output_type": "execute_result"
    }
   ],
   "source": [
    "movies_train = strat_train_set.drop('Revenue', axis=1)\n",
    "movies_train_labels = strat_train_set['Revenue'].copy()\n",
    "len_movies_train = len(movies_train)\n",
    "len_movies_train"
   ]
  },
  {
   "cell_type": "code",
   "execution_count": 29,
   "metadata": {},
   "outputs": [
    {
     "data": {
      "text/plain": [
       "6726"
      ]
     },
     "execution_count": 29,
     "metadata": {},
     "output_type": "execute_result"
    }
   ],
   "source": [
    "movies_test = strat_test_set.drop('Revenue', axis=1)\n",
    "movies_test_labels = strat_test_set['Revenue'].copy()\n",
    "len_movies_test = len(movies_test)\n",
    "len_movies_test"
   ]
  },
  {
   "cell_type": "code",
   "execution_count": 30,
   "metadata": {},
   "outputs": [
    {
     "data": {
      "text/plain": [
       "7473"
      ]
     },
     "execution_count": 30,
     "metadata": {},
     "output_type": "execute_result"
    }
   ],
   "source": [
    "len_movies_train + len_movies_test"
   ]
  },
  {
   "cell_type": "code",
   "execution_count": 31,
   "metadata": {},
   "outputs": [
    {
     "data": {
      "text/plain": [
       "7473"
      ]
     },
     "execution_count": 31,
     "metadata": {},
     "output_type": "execute_result"
    }
   ],
   "source": [
    "len_movies_NotNull"
   ]
  },
  {
   "cell_type": "code",
   "execution_count": 32,
   "metadata": {},
   "outputs": [
    {
     "data": {
      "text/plain": [
       "2527"
      ]
     },
     "execution_count": 32,
     "metadata": {},
     "output_type": "execute_result"
    }
   ],
   "source": [
    "len_movies_RevenueNaN"
   ]
  },
  {
   "cell_type": "code",
   "execution_count": 33,
   "metadata": {},
   "outputs": [
    {
     "data": {
      "text/plain": [
       "10000"
      ]
     },
     "execution_count": 33,
     "metadata": {},
     "output_type": "execute_result"
    }
   ],
   "source": [
    "len_movies_train + len_movies_test + len_movies_RevenueNaN "
   ]
  },
  {
   "cell_type": "markdown",
   "metadata": {},
   "source": [
    "The whole dataset of 10000 rows has been split up into \n",
    "- a training dataset (\"movies_train\"), \n",
    "- a testing dataset (\"movies_test\") and\n",
    "- a dataset, where \"Revenue\"=\"NaN\""
   ]
  },
  {
   "cell_type": "code",
   "execution_count": 34,
   "metadata": {},
   "outputs": [
    {
     "data": {
      "text/plain": [
       "<function matplotlib.pyplot.show(*args, **kw)>"
      ]
     },
     "execution_count": 34,
     "metadata": {},
     "output_type": "execute_result"
    },
    {
     "data": {
      "image/png": "[encoded data removed]",
      "text/plain": [
       "<Figure size 432x288 with 1 Axes>"
      ]
     },
     "metadata": {},
     "output_type": "display_data"
    }
   ],
   "source": [
    "fracs = [len_movies_train, len_movies_test, len_movies_RevenueNaN]\n",
    "labels = ['training data (movies_train)', 'testing data (movies_test)', 'Revenue=NaN']\n",
    "fig, axs = plt.subplots()\n",
    "axs.pie(fracs, labels=labels)\n",
    "plt.show"
   ]
  },
  {
   "cell_type": "code",
   "execution_count": 35,
   "metadata": {},
   "outputs": [
    {
     "data": {
      "text/plain": [
       "<function matplotlib.pyplot.show(*args, **kw)>"
      ]
     },
     "execution_count": 35,
     "metadata": {},
     "output_type": "execute_result"
    }
   ],
   "source": [
    "plt.show"
   ]
  },
  {
   "cell_type": "markdown",
   "metadata": {},
   "source": [
    "# Pipeline"
   ]
  },
  {
   "cell_type": "markdown",
   "metadata": {},
   "source": [
    "Now I want to implement a pipeline for doing all the datapreparation work quicker when I am testing it later. Only numerical-columns will be taken. The other will be thrown away (for the moment, I will change this later): "
   ]
  },
  {
   "cell_type": "code",
   "execution_count": 36,
   "metadata": {},
   "outputs": [
    {
     "data": {
      "text/html": [
       "<div>\n",
       "<style scoped>\n",
       "    .dataframe tbody tr th:only-of-type {\n",
       "        vertical-align: middle;\n",
       "    }\n",
       "\n",
       "    .dataframe tbody tr th {\n",
       "        vertical-align: top;\n",
       "    }\n",
       "\n",
       "    .dataframe thead th {\n",
       "        text-align: right;\n",
       "    }\n",
       "</style>\n",
       "<table border=\"1\" class=\"dataframe\">\n",
       "  <thead>\n",
       "    <tr style=\"text-align: right;\">\n",
       "      <th></th>\n",
       "      <th>Rank</th>\n",
       "      <th>Year</th>\n",
       "      <th>Score</th>\n",
       "      <th>Metascore</th>\n",
       "      <th>Vote</th>\n",
       "      <th>Runtime</th>\n",
       "    </tr>\n",
       "  </thead>\n",
       "  <tbody>\n",
       "    <tr>\n",
       "      <th>733</th>\n",
       "      <td>734.0</td>\n",
       "      <td>2007.0</td>\n",
       "      <td>6.3</td>\n",
       "      <td>68.0</td>\n",
       "      <td>204005.0</td>\n",
       "      <td>86.0</td>\n",
       "    </tr>\n",
       "    <tr>\n",
       "      <th>5851</th>\n",
       "      <td>5852.0</td>\n",
       "      <td>2003.0</td>\n",
       "      <td>5.2</td>\n",
       "      <td>21.0</td>\n",
       "      <td>16061.0</td>\n",
       "      <td>102.0</td>\n",
       "    </tr>\n",
       "    <tr>\n",
       "      <th>3816</th>\n",
       "      <td>3817.0</td>\n",
       "      <td>2003.0</td>\n",
       "      <td>5.3</td>\n",
       "      <td>47.0</td>\n",
       "      <td>33688.0</td>\n",
       "      <td>116.0</td>\n",
       "    </tr>\n",
       "    <tr>\n",
       "      <th>5384</th>\n",
       "      <td>5385.0</td>\n",
       "      <td>1980.0</td>\n",
       "      <td>6.7</td>\n",
       "      <td>58.0</td>\n",
       "      <td>18517.0</td>\n",
       "      <td>103.0</td>\n",
       "    </tr>\n",
       "    <tr>\n",
       "      <th>1058</th>\n",
       "      <td>1059.0</td>\n",
       "      <td>1998.0</td>\n",
       "      <td>6.7</td>\n",
       "      <td>63.0</td>\n",
       "      <td>152346.0</td>\n",
       "      <td>136.0</td>\n",
       "    </tr>\n",
       "  </tbody>\n",
       "</table>\n",
       "</div>"
      ],
      "text/plain": [
       "        Rank    Year  Score  Metascore      Vote  Runtime\n",
       "733    734.0  2007.0    6.3       68.0  204005.0     86.0\n",
       "5851  5852.0  2003.0    5.2       21.0   16061.0    102.0\n",
       "3816  3817.0  2003.0    5.3       47.0   33688.0    116.0\n",
       "5384  5385.0  1980.0    6.7       58.0   18517.0    103.0\n",
       "1058  1059.0  1998.0    6.7       63.0  152346.0    136.0"
      ]
     },
     "execution_count": 36,
     "metadata": {},
     "output_type": "execute_result"
    }
   ],
   "source": [
    "imputer = SimpleImputer(strategy=\"median\")\n",
    "movies_train_num = movies_train.select_dtypes(include=[np.number])\n",
    "imputer.fit(movies_train_num)\n",
    "X = imputer.transform(movies_train_num) # Transform the training set:\n",
    "movies_tr = pd.DataFrame(X, columns=movies_train_num.columns,index=movies_train.index)\n",
    "movies_tr.head()"
   ]
  },
  {
   "cell_type": "code",
   "execution_count": 37,
   "metadata": {},
   "outputs": [
    {
     "data": {
      "text/plain": [
       "['Rank', 'Year', 'Score', 'Metascore', 'Vote', 'Runtime']"
      ]
     },
     "execution_count": 37,
     "metadata": {},
     "output_type": "execute_result"
    }
   ],
   "source": [
    "num_attribs = list(movies_train_num)\n",
    "num_attribs"
   ]
  },
  {
   "cell_type": "code",
   "execution_count": 38,
   "metadata": {},
   "outputs": [],
   "source": [
    "num_pipeline = Pipeline([\n",
    "    ('imputer', SimpleImputer(strategy='median')), \n",
    "])\n",
    "\n",
    "num_attribs = ['Rank', 'Year', 'Score', 'Metascore', 'Vote', 'Runtime'] #list(movies_train_num)\n",
    "\n",
    "full_pipeline = ColumnTransformer([\n",
    "    ('num', num_pipeline, num_attribs)\n",
    "])"
   ]
  },
  {
   "cell_type": "markdown",
   "metadata": {},
   "source": [
    "Apply now the full pipeline on the training-dataset \"movies_train\". But before we do this, we have a look into the column \"Metascore\" and count how many \"nan\"-values we have there in the training dataset \"movies_train\": "
   ]
  },
  {
   "cell_type": "code",
   "execution_count": 39,
   "metadata": {},
   "outputs": [
    {
     "data": {
      "text/html": [
       "<div>\n",
       "<style scoped>\n",
       "    .dataframe tbody tr th:only-of-type {\n",
       "        vertical-align: middle;\n",
       "    }\n",
       "\n",
       "    .dataframe tbody tr th {\n",
       "        vertical-align: top;\n",
       "    }\n",
       "\n",
       "    .dataframe thead th {\n",
       "        text-align: right;\n",
       "    }\n",
       "</style>\n",
       "<table border=\"1\" class=\"dataframe\">\n",
       "  <thead>\n",
       "    <tr style=\"text-align: right;\">\n",
       "      <th></th>\n",
       "      <th>Rank</th>\n",
       "      <th>Title</th>\n",
       "      <th>Year</th>\n",
       "      <th>Score</th>\n",
       "      <th>Metascore</th>\n",
       "      <th>Genre</th>\n",
       "      <th>Vote</th>\n",
       "      <th>Director</th>\n",
       "      <th>Runtime</th>\n",
       "      <th>Description</th>\n",
       "    </tr>\n",
       "  </thead>\n",
       "  <tbody>\n",
       "    <tr>\n",
       "      <th>5384</th>\n",
       "      <td>5385</td>\n",
       "      <td>The Final Countdown</td>\n",
       "      <td>1980</td>\n",
       "      <td>6.7</td>\n",
       "      <td>NaN</td>\n",
       "      <td>Action, Sci-Fi</td>\n",
       "      <td>18517</td>\n",
       "      <td>Don Taylor</td>\n",
       "      <td>103</td>\n",
       "      <td>A modern aircraft carrier is thrown back in ti...</td>\n",
       "    </tr>\n",
       "    <tr>\n",
       "      <th>5914</th>\n",
       "      <td>5915</td>\n",
       "      <td>The Chase</td>\n",
       "      <td>1994</td>\n",
       "      <td>5.8</td>\n",
       "      <td>NaN</td>\n",
       "      <td>Action, Adventure, Comedy</td>\n",
       "      <td>15791</td>\n",
       "      <td>Adam Rifkin</td>\n",
       "      <td>89</td>\n",
       "      <td>Escaped convict Jack Hammond takes a woman hos...</td>\n",
       "    </tr>\n",
       "    <tr>\n",
       "      <th>8964</th>\n",
       "      <td>8965</td>\n",
       "      <td>Smokey and the Bandit Part 3</td>\n",
       "      <td>1983</td>\n",
       "      <td>3.4</td>\n",
       "      <td>NaN</td>\n",
       "      <td>Comedy, Crime</td>\n",
       "      <td>7276</td>\n",
       "      <td>Dick Lowry</td>\n",
       "      <td>85</td>\n",
       "      <td>Big and Little Enos are opening a sea food res...</td>\n",
       "    </tr>\n",
       "    <tr>\n",
       "      <th>2639</th>\n",
       "      <td>2640</td>\n",
       "      <td>Charade</td>\n",
       "      <td>1963</td>\n",
       "      <td>8.0</td>\n",
       "      <td>NaN</td>\n",
       "      <td>Comedy, Mystery, Romance</td>\n",
       "      <td>57719</td>\n",
       "      <td>Stanley Donen</td>\n",
       "      <td>113</td>\n",
       "      <td>Romance and suspense ensue in Paris as a woman...</td>\n",
       "    </tr>\n",
       "    <tr>\n",
       "      <th>7876</th>\n",
       "      <td>7877</td>\n",
       "      <td>Auntie Mame</td>\n",
       "      <td>1958</td>\n",
       "      <td>8.0</td>\n",
       "      <td>NaN</td>\n",
       "      <td>Comedy, Drama, Romance</td>\n",
       "      <td>9186</td>\n",
       "      <td>Morton DaCosta</td>\n",
       "      <td>143</td>\n",
       "      <td>An orphan goes to live with his free-spirited ...</td>\n",
       "    </tr>\n",
       "  </tbody>\n",
       "</table>\n",
       "</div>"
      ],
      "text/plain": [
       "      Rank                         Title  Year  Score  Metascore  \\\n",
       "5384  5385           The Final Countdown  1980    6.7        NaN   \n",
       "5914  5915                     The Chase  1994    5.8        NaN   \n",
       "8964  8965  Smokey and the Bandit Part 3  1983    3.4        NaN   \n",
       "2639  2640                       Charade  1963    8.0        NaN   \n",
       "7876  7877                   Auntie Mame  1958    8.0        NaN   \n",
       "\n",
       "                          Genre   Vote        Director  Runtime  \\\n",
       "5384             Action, Sci-Fi  18517      Don Taylor      103   \n",
       "5914  Action, Adventure, Comedy  15791     Adam Rifkin       89   \n",
       "8964              Comedy, Crime   7276      Dick Lowry       85   \n",
       "2639   Comedy, Mystery, Romance  57719   Stanley Donen      113   \n",
       "7876     Comedy, Drama, Romance   9186  Morton DaCosta      143   \n",
       "\n",
       "                                            Description  \n",
       "5384  A modern aircraft carrier is thrown back in ti...  \n",
       "5914  Escaped convict Jack Hammond takes a woman hos...  \n",
       "8964  Big and Little Enos are opening a sea food res...  \n",
       "2639  Romance and suspense ensue in Paris as a woman...  \n",
       "7876  An orphan goes to live with his free-spirited ...  "
      ]
     },
     "execution_count": 39,
     "metadata": {},
     "output_type": "execute_result"
    }
   ],
   "source": [
    "tmp = movies_train[movies_train[\"Metascore\"].isnull()]\n",
    "tmp.head()"
   ]
  },
  {
   "cell_type": "markdown",
   "metadata": {},
   "source": [
    "Now apply the Pipeline:"
   ]
  },
  {
   "cell_type": "code",
   "execution_count": 40,
   "metadata": {},
   "outputs": [],
   "source": [
    "movies_train_prepared = full_pipeline.fit_transform(movies_train)"
   ]
  },
  {
   "cell_type": "markdown",
   "metadata": {},
   "source": [
    "Now let's count the \"nan\" values in the new prepared datast \"movies_train_prepared\". I have to transform it back to a Pandas-Dataframe format first: "
   ]
  },
  {
   "cell_type": "code",
   "execution_count": 41,
   "metadata": {},
   "outputs": [
    {
     "data": {
      "text/html": [
       "<div>\n",
       "<style scoped>\n",
       "    .dataframe tbody tr th:only-of-type {\n",
       "        vertical-align: middle;\n",
       "    }\n",
       "\n",
       "    .dataframe tbody tr th {\n",
       "        vertical-align: top;\n",
       "    }\n",
       "\n",
       "    .dataframe thead th {\n",
       "        text-align: right;\n",
       "    }\n",
       "</style>\n",
       "<table border=\"1\" class=\"dataframe\">\n",
       "  <thead>\n",
       "    <tr style=\"text-align: right;\">\n",
       "      <th></th>\n",
       "      <th>Rank</th>\n",
       "      <th>Year</th>\n",
       "      <th>Score</th>\n",
       "      <th>Metascore</th>\n",
       "      <th>Vote</th>\n",
       "      <th>Runtime</th>\n",
       "    </tr>\n",
       "  </thead>\n",
       "  <tbody>\n",
       "  </tbody>\n",
       "</table>\n",
       "</div>"
      ],
      "text/plain": [
       "Empty DataFrame\n",
       "Columns: [Rank, Year, Score, Metascore, Vote, Runtime]\n",
       "Index: []"
      ]
     },
     "execution_count": 41,
     "metadata": {},
     "output_type": "execute_result"
    }
   ],
   "source": [
    "tmp_num = movies_train.select_dtypes(include=[np.number])\n",
    "tmp_prep = pd.DataFrame(movies_train_prepared, columns=tmp_num.columns,index=movies_train.index)\n",
    "tmp = tmp_prep[tmp_prep[\"Metascore\"].isnull()]\n",
    "tmp"
   ]
  },
  {
   "cell_type": "markdown",
   "metadata": {},
   "source": [
    "Zero, as we wanted! All \"nan\"-values in \"movies_train_prepared\" have been removed by the \"median\" value (this was how the pipeline was built). Great, this was part of the job, the Pipline should have done.  The other part was to eliminate some columns. We now have only 6 remaining instead of 10 columns. "
   ]
  },
  {
   "cell_type": "markdown",
   "metadata": {},
   "source": [
    "# Model \"DecisionTreeRegressor\""
   ]
  },
  {
   "cell_type": "code",
   "execution_count": 42,
   "metadata": {},
   "outputs": [],
   "source": [
    "tree_reg = DecisionTreeRegressor(random_state=42)\n",
    "tree_reg.fit(movies_train_prepared, movies_train_labels)\n",
    "\n",
    "movies_predictions = tree_reg.predict(movies_train_prepared)"
   ]
  },
  {
   "cell_type": "markdown",
   "metadata": {},
   "source": [
    "Verifiy if training labels (\"movies_train_labels\") and predicted labels (\"movies_predictions\"). Here for the first 10 datasets:"
   ]
  },
  {
   "cell_type": "code",
   "execution_count": 43,
   "metadata": {},
   "outputs": [
    {
     "data": {
      "text/plain": [
       "[107.92, 7.66, 30.01, 16.65, 94.1, 11.54, 6.61, 126.64, 3.63, 1.57]"
      ]
     },
     "execution_count": 43,
     "metadata": {},
     "output_type": "execute_result"
    }
   ],
   "source": [
    "list(movies_train_labels[0:10])"
   ]
  },
  {
   "cell_type": "code",
   "execution_count": 44,
   "metadata": {},
   "outputs": [
    {
     "data": {
      "text/plain": [
       "[107.92, 7.66, 30.01, 16.65, 94.1, 11.54, 6.61, 126.64, 3.63, 1.57]"
      ]
     },
     "execution_count": 44,
     "metadata": {},
     "output_type": "execute_result"
    }
   ],
   "source": [
    "list(movies_predictions[0:10])"
   ]
  },
  {
   "cell_type": "markdown",
   "metadata": {},
   "source": [
    "The training-labels and the predicted labels match for the first 10 datasets. The fitting of the model was successful.\n",
    "\n",
    "How big is the error for all training-datasets?"
   ]
  },
  {
   "cell_type": "code",
   "execution_count": 45,
   "metadata": {},
   "outputs": [
    {
     "data": {
      "text/plain": [
       "0.0"
      ]
     },
     "execution_count": 45,
     "metadata": {},
     "output_type": "execute_result"
    }
   ],
   "source": [
    "trainmse = mean_squared_error(movies_train_labels, movies_predictions)\n",
    "trainrmse = np.sqrt(trainmse)\n",
    "trainrmse"
   ]
  },
  {
   "cell_type": "markdown",
   "metadata": {},
   "source": [
    "# Cross-Validation"
   ]
  },
  {
   "cell_type": "code",
   "execution_count": 46,
   "metadata": {},
   "outputs": [
    {
     "name": "stdout",
     "output_type": "stream",
     "text": [
      "Scores: [ 69.66166984  62.59977724  62.6450061  112.98391756  47.99491086\n",
      "  52.16787811  42.65104005  83.21059338  41.09199207  63.84158945]\n",
      "Mean: 63.88483746577791\n",
      "Standard deviation: 20.447326452253154\n"
     ]
    }
   ],
   "source": [
    "scores = cross_val_score(tree_reg, \n",
    "                         movies_train_prepared,\n",
    "                         movies_train_labels,\n",
    "                         scoring=\"neg_mean_squared_error\", \n",
    "                         cv=10)\n",
    "\n",
    "rmse_scores = np.sqrt(-scores)\n",
    "\n",
    "def display_scores(scores):\n",
    "    print(\"Scores:\", scores)\n",
    "    print(\"Mean:\", scores.mean())\n",
    "    print(\"Standard deviation:\", scores.std())\n",
    "\n",
    "display_scores(rmse_scores)"
   ]
  },
  {
   "cell_type": "markdown",
   "metadata": {},
   "source": [
    "# Test the model"
   ]
  },
  {
   "cell_type": "markdown",
   "metadata": {},
   "source": [
    "We take on arbitrary row in the testing dataset \"movies_test\". Take for example row number 322:"
   ]
  },
  {
   "cell_type": "code",
   "execution_count": 47,
   "metadata": {},
   "outputs": [],
   "source": [
    "some_data = movies_test.iloc[0:20]\n",
    "some_data_label = movies_test_labels.iloc[0:20]"
   ]
  },
  {
   "cell_type": "code",
   "execution_count": 48,
   "metadata": {},
   "outputs": [
    {
     "data": {
      "text/html": [
       "<div>\n",
       "<style scoped>\n",
       "    .dataframe tbody tr th:only-of-type {\n",
       "        vertical-align: middle;\n",
       "    }\n",
       "\n",
       "    .dataframe tbody tr th {\n",
       "        vertical-align: top;\n",
       "    }\n",
       "\n",
       "    .dataframe thead th {\n",
       "        text-align: right;\n",
       "    }\n",
       "</style>\n",
       "<table border=\"1\" class=\"dataframe\">\n",
       "  <thead>\n",
       "    <tr style=\"text-align: right;\">\n",
       "      <th></th>\n",
       "      <th>Rank</th>\n",
       "      <th>Title</th>\n",
       "      <th>Year</th>\n",
       "      <th>Score</th>\n",
       "      <th>Metascore</th>\n",
       "      <th>Genre</th>\n",
       "      <th>Vote</th>\n",
       "      <th>Director</th>\n",
       "      <th>Runtime</th>\n",
       "      <th>Description</th>\n",
       "    </tr>\n",
       "  </thead>\n",
       "  <tbody>\n",
       "    <tr>\n",
       "      <th>3123</th>\n",
       "      <td>3124</td>\n",
       "      <td>Victor Frankenstein</td>\n",
       "      <td>2015</td>\n",
       "      <td>6.0</td>\n",
       "      <td>36.0</td>\n",
       "      <td>Drama, Horror, Sci-Fi</td>\n",
       "      <td>45259</td>\n",
       "      <td>Paul McGuigan</td>\n",
       "      <td>110</td>\n",
       "      <td>Told from Igor's perspective, we see the troub...</td>\n",
       "    </tr>\n",
       "    <tr>\n",
       "      <th>3061</th>\n",
       "      <td>3062</td>\n",
       "      <td>Battleship Potemkin</td>\n",
       "      <td>1925</td>\n",
       "      <td>8.0</td>\n",
       "      <td>NaN</td>\n",
       "      <td>Drama, History</td>\n",
       "      <td>46636</td>\n",
       "      <td>Sergei M. Eisenstein</td>\n",
       "      <td>75</td>\n",
       "      <td>In the midst of the Russian Revolution of 1905...</td>\n",
       "    </tr>\n",
       "    <tr>\n",
       "      <th>3627</th>\n",
       "      <td>3628</td>\n",
       "      <td>Bakjwi</td>\n",
       "      <td>2009</td>\n",
       "      <td>7.2</td>\n",
       "      <td>73.0</td>\n",
       "      <td>Drama, Horror, Romance</td>\n",
       "      <td>36395</td>\n",
       "      <td>Chan-wook Park</td>\n",
       "      <td>135</td>\n",
       "      <td>Through a failed medical experiment, a priest ...</td>\n",
       "    </tr>\n",
       "    <tr>\n",
       "      <th>695</th>\n",
       "      <td>696</td>\n",
       "      <td>The Sting</td>\n",
       "      <td>1973</td>\n",
       "      <td>8.3</td>\n",
       "      <td>80.0</td>\n",
       "      <td>Comedy, Crime, Drama</td>\n",
       "      <td>211112</td>\n",
       "      <td>George Roy Hill</td>\n",
       "      <td>129</td>\n",
       "      <td>Two grifters team up to pull off the ultimate ...</td>\n",
       "    </tr>\n",
       "    <tr>\n",
       "      <th>2633</th>\n",
       "      <td>2634</td>\n",
       "      <td>The Gambler</td>\n",
       "      <td>2014</td>\n",
       "      <td>6.0</td>\n",
       "      <td>55.0</td>\n",
       "      <td>Crime, Drama, Thriller</td>\n",
       "      <td>57874</td>\n",
       "      <td>Rupert Wyatt</td>\n",
       "      <td>111</td>\n",
       "      <td>Literature professor and gambler Jim Bennett's...</td>\n",
       "    </tr>\n",
       "    <tr>\n",
       "      <th>2156</th>\n",
       "      <td>2157</td>\n",
       "      <td>xXx: Return of Xander Cage</td>\n",
       "      <td>2017</td>\n",
       "      <td>5.2</td>\n",
       "      <td>42.0</td>\n",
       "      <td>Action, Adventure, Thriller</td>\n",
       "      <td>73717</td>\n",
       "      <td>D.J. Caruso</td>\n",
       "      <td>107</td>\n",
       "      <td>Xander Cage is left for dead after an incident...</td>\n",
       "    </tr>\n",
       "    <tr>\n",
       "      <th>2307</th>\n",
       "      <td>2308</td>\n",
       "      <td>Rock of Ages</td>\n",
       "      <td>2012</td>\n",
       "      <td>5.9</td>\n",
       "      <td>47.0</td>\n",
       "      <td>Comedy, Drama, Musical</td>\n",
       "      <td>68455</td>\n",
       "      <td>Adam Shankman</td>\n",
       "      <td>123</td>\n",
       "      <td>A small town girl and a city boy meet on the S...</td>\n",
       "    </tr>\n",
       "    <tr>\n",
       "      <th>2979</th>\n",
       "      <td>2980</td>\n",
       "      <td>Arthur</td>\n",
       "      <td>2011</td>\n",
       "      <td>5.7</td>\n",
       "      <td>36.0</td>\n",
       "      <td>Comedy, Romance</td>\n",
       "      <td>48239</td>\n",
       "      <td>Jason Winer</td>\n",
       "      <td>110</td>\n",
       "      <td>A drunken playboy stands to lose a wealthy inh...</td>\n",
       "    </tr>\n",
       "    <tr>\n",
       "      <th>408</th>\n",
       "      <td>409</td>\n",
       "      <td>Vertigo</td>\n",
       "      <td>1958</td>\n",
       "      <td>8.3</td>\n",
       "      <td>NaN</td>\n",
       "      <td>Mystery, Romance, Thriller</td>\n",
       "      <td>306510</td>\n",
       "      <td>Alfred Hitchcock</td>\n",
       "      <td>128</td>\n",
       "      <td>A former police detective juggles wrestling wi...</td>\n",
       "    </tr>\n",
       "    <tr>\n",
       "      <th>1172</th>\n",
       "      <td>1173</td>\n",
       "      <td>Invictus</td>\n",
       "      <td>2009</td>\n",
       "      <td>7.3</td>\n",
       "      <td>74.0</td>\n",
       "      <td>Biography, Drama, History</td>\n",
       "      <td>137826</td>\n",
       "      <td>Clint Eastwood</td>\n",
       "      <td>134</td>\n",
       "      <td>Nelson Mandela, in his first term as the South...</td>\n",
       "    </tr>\n",
       "    <tr>\n",
       "      <th>5560</th>\n",
       "      <td>5561</td>\n",
       "      <td>The Crow: City of Angels</td>\n",
       "      <td>1996</td>\n",
       "      <td>4.6</td>\n",
       "      <td>NaN</td>\n",
       "      <td>Action, Crime, Fantasy</td>\n",
       "      <td>17501</td>\n",
       "      <td>Tim Pope</td>\n",
       "      <td>84</td>\n",
       "      <td>The spirit of the Crow resurrects another man ...</td>\n",
       "    </tr>\n",
       "    <tr>\n",
       "      <th>1255</th>\n",
       "      <td>1256</td>\n",
       "      <td>Valerian and the City of a Thousand Planets</td>\n",
       "      <td>2017</td>\n",
       "      <td>6.5</td>\n",
       "      <td>51.0</td>\n",
       "      <td>Action, Adventure, Fantasy</td>\n",
       "      <td>128874</td>\n",
       "      <td>Luc Besson</td>\n",
       "      <td>137</td>\n",
       "      <td>A dark force threatens Alpha, a vast metropoli...</td>\n",
       "    </tr>\n",
       "    <tr>\n",
       "      <th>2506</th>\n",
       "      <td>2507</td>\n",
       "      <td>Wolf Creek</td>\n",
       "      <td>2005</td>\n",
       "      <td>6.3</td>\n",
       "      <td>54.0</td>\n",
       "      <td>Horror, Thriller</td>\n",
       "      <td>61927</td>\n",
       "      <td>Greg McLean</td>\n",
       "      <td>99</td>\n",
       "      <td>Three backpackers stranded in the Australian o...</td>\n",
       "    </tr>\n",
       "    <tr>\n",
       "      <th>6044</th>\n",
       "      <td>6045</td>\n",
       "      <td>The Carrier</td>\n",
       "      <td>2014</td>\n",
       "      <td>5.3</td>\n",
       "      <td>28.0</td>\n",
       "      <td>Crime, Drama, Thriller</td>\n",
       "      <td>15167</td>\n",
       "      <td>David Grovic</td>\n",
       "      <td>108</td>\n",
       "      <td>A criminal bides his time at a seedy motel, wa...</td>\n",
       "    </tr>\n",
       "    <tr>\n",
       "      <th>5681</th>\n",
       "      <td>5682</td>\n",
       "      <td>Hellraiser IV: Bloodline</td>\n",
       "      <td>1996</td>\n",
       "      <td>5.1</td>\n",
       "      <td>21.0</td>\n",
       "      <td>Horror, Sci-Fi</td>\n",
       "      <td>16957</td>\n",
       "      <td>Kevin Yagher</td>\n",
       "      <td>85</td>\n",
       "      <td>In the 22nd century, a scientist attempts to r...</td>\n",
       "    </tr>\n",
       "    <tr>\n",
       "      <th>4592</th>\n",
       "      <td>4593</td>\n",
       "      <td>Dragon: The Bruce Lee Story</td>\n",
       "      <td>1993</td>\n",
       "      <td>7.0</td>\n",
       "      <td>NaN</td>\n",
       "      <td>Action, Biography, Drama</td>\n",
       "      <td>24640</td>\n",
       "      <td>Rob Cohen</td>\n",
       "      <td>119</td>\n",
       "      <td>A fictionalized account of the life of the mar...</td>\n",
       "    </tr>\n",
       "    <tr>\n",
       "      <th>7155</th>\n",
       "      <td>7156</td>\n",
       "      <td>The Greatest Show on Earth</td>\n",
       "      <td>1952</td>\n",
       "      <td>6.7</td>\n",
       "      <td>NaN</td>\n",
       "      <td>Drama, Family, Romance</td>\n",
       "      <td>11142</td>\n",
       "      <td>Cecil B. DeMille</td>\n",
       "      <td>152</td>\n",
       "      <td>The dramatic lives of trapeze artists, a clown...</td>\n",
       "    </tr>\n",
       "    <tr>\n",
       "      <th>5046</th>\n",
       "      <td>5047</td>\n",
       "      <td>Table 19</td>\n",
       "      <td>2017</td>\n",
       "      <td>5.8</td>\n",
       "      <td>40.0</td>\n",
       "      <td>Comedy, Drama, Romance</td>\n",
       "      <td>20836</td>\n",
       "      <td>Jeffrey Blitz</td>\n",
       "      <td>87</td>\n",
       "      <td>Eloise, having been relieved of maid of honor ...</td>\n",
       "    </tr>\n",
       "    <tr>\n",
       "      <th>8001</th>\n",
       "      <td>8002</td>\n",
       "      <td>Mary Kom</td>\n",
       "      <td>2014</td>\n",
       "      <td>6.8</td>\n",
       "      <td>NaN</td>\n",
       "      <td>Action, Biography, Drama</td>\n",
       "      <td>8912</td>\n",
       "      <td>Omung Kumar</td>\n",
       "      <td>122</td>\n",
       "      <td>A chronicle of the life of Indian boxer Mary K...</td>\n",
       "    </tr>\n",
       "    <tr>\n",
       "      <th>3866</th>\n",
       "      <td>3867</td>\n",
       "      <td>Rockstar</td>\n",
       "      <td>2011</td>\n",
       "      <td>7.7</td>\n",
       "      <td>NaN</td>\n",
       "      <td>Drama, Music, Musical</td>\n",
       "      <td>33082</td>\n",
       "      <td>Imtiaz Ali</td>\n",
       "      <td>159</td>\n",
       "      <td>Janardhan Jakhar chases his dreams of becoming...</td>\n",
       "    </tr>\n",
       "  </tbody>\n",
       "</table>\n",
       "</div>"
      ],
      "text/plain": [
       "      Rank                                        Title  Year  Score  \\\n",
       "3123  3124                          Victor Frankenstein  2015    6.0   \n",
       "3061  3062                          Battleship Potemkin  1925    8.0   \n",
       "3627  3628                                       Bakjwi  2009    7.2   \n",
       "695    696                                    The Sting  1973    8.3   \n",
       "2633  2634                                  The Gambler  2014    6.0   \n",
       "2156  2157                   xXx: Return of Xander Cage  2017    5.2   \n",
       "2307  2308                                 Rock of Ages  2012    5.9   \n",
       "2979  2980                                       Arthur  2011    5.7   \n",
       "408    409                                      Vertigo  1958    8.3   \n",
       "1172  1173                                     Invictus  2009    7.3   \n",
       "5560  5561                     The Crow: City of Angels  1996    4.6   \n",
       "1255  1256  Valerian and the City of a Thousand Planets  2017    6.5   \n",
       "2506  2507                                   Wolf Creek  2005    6.3   \n",
       "6044  6045                                  The Carrier  2014    5.3   \n",
       "5681  5682                     Hellraiser IV: Bloodline  1996    5.1   \n",
       "4592  4593                  Dragon: The Bruce Lee Story  1993    7.0   \n",
       "7155  7156                   The Greatest Show on Earth  1952    6.7   \n",
       "5046  5047                                     Table 19  2017    5.8   \n",
       "8001  8002                                     Mary Kom  2014    6.8   \n",
       "3866  3867                                     Rockstar  2011    7.7   \n",
       "\n",
       "      Metascore                        Genre    Vote              Director  \\\n",
       "3123       36.0        Drama, Horror, Sci-Fi   45259         Paul McGuigan   \n",
       "3061        NaN               Drama, History   46636  Sergei M. Eisenstein   \n",
       "3627       73.0       Drama, Horror, Romance   36395        Chan-wook Park   \n",
       "695        80.0         Comedy, Crime, Drama  211112       George Roy Hill   \n",
       "2633       55.0       Crime, Drama, Thriller   57874          Rupert Wyatt   \n",
       "2156       42.0  Action, Adventure, Thriller   73717           D.J. Caruso   \n",
       "2307       47.0       Comedy, Drama, Musical   68455         Adam Shankman   \n",
       "2979       36.0              Comedy, Romance   48239           Jason Winer   \n",
       "408         NaN   Mystery, Romance, Thriller  306510      Alfred Hitchcock   \n",
       "1172       74.0    Biography, Drama, History  137826        Clint Eastwood   \n",
       "5560        NaN       Action, Crime, Fantasy   17501              Tim Pope   \n",
       "1255       51.0   Action, Adventure, Fantasy  128874            Luc Besson   \n",
       "2506       54.0             Horror, Thriller   61927           Greg McLean   \n",
       "6044       28.0       Crime, Drama, Thriller   15167          David Grovic   \n",
       "5681       21.0               Horror, Sci-Fi   16957          Kevin Yagher   \n",
       "4592        NaN     Action, Biography, Drama   24640             Rob Cohen   \n",
       "7155        NaN       Drama, Family, Romance   11142      Cecil B. DeMille   \n",
       "5046       40.0       Comedy, Drama, Romance   20836         Jeffrey Blitz   \n",
       "8001        NaN     Action, Biography, Drama    8912           Omung Kumar   \n",
       "3866        NaN        Drama, Music, Musical   33082            Imtiaz Ali   \n",
       "\n",
       "      Runtime                                        Description  \n",
       "3123      110  Told from Igor's perspective, we see the troub...  \n",
       "3061       75  In the midst of the Russian Revolution of 1905...  \n",
       "3627      135  Through a failed medical experiment, a priest ...  \n",
       "695       129  Two grifters team up to pull off the ultimate ...  \n",
       "2633      111  Literature professor and gambler Jim Bennett's...  \n",
       "2156      107  Xander Cage is left for dead after an incident...  \n",
       "2307      123  A small town girl and a city boy meet on the S...  \n",
       "2979      110  A drunken playboy stands to lose a wealthy inh...  \n",
       "408       128  A former police detective juggles wrestling wi...  \n",
       "1172      134  Nelson Mandela, in his first term as the South...  \n",
       "5560       84  The spirit of the Crow resurrects another man ...  \n",
       "1255      137  A dark force threatens Alpha, a vast metropoli...  \n",
       "2506       99  Three backpackers stranded in the Australian o...  \n",
       "6044      108  A criminal bides his time at a seedy motel, wa...  \n",
       "5681       85  In the 22nd century, a scientist attempts to r...  \n",
       "4592      119  A fictionalized account of the life of the mar...  \n",
       "7155      152  The dramatic lives of trapeze artists, a clown...  \n",
       "5046       87  Eloise, having been relieved of maid of honor ...  \n",
       "8001      122  A chronicle of the life of Indian boxer Mary K...  \n",
       "3866      159  Janardhan Jakhar chases his dreams of becoming...  "
      ]
     },
     "execution_count": 48,
     "metadata": {},
     "output_type": "execute_result"
    }
   ],
   "source": [
    "some_data"
   ]
  },
  {
   "cell_type": "markdown",
   "metadata": {},
   "source": [
    "As we didn't apply the pipeline on the testing dataset (we only did on the training dataset \"movies_train\"), there might still some \"nan\" values in columns \"Metascore\"."
   ]
  },
  {
   "cell_type": "markdown",
   "metadata": {},
   "source": [
    "The true value for the \"Revenue\" is: "
   ]
  },
  {
   "cell_type": "code",
   "execution_count": 49,
   "metadata": {},
   "outputs": [
    {
     "data": {
      "text/plain": [
       "3123      5.78\n",
       "3061      0.05\n",
       "3627      0.30\n",
       "695     159.60\n",
       "2633     33.63\n",
       "2156     44.90\n",
       "2307     38.52\n",
       "2979     33.04\n",
       "408       3.20\n",
       "1172     37.49\n",
       "5560     17.88\n",
       "1255     41.19\n",
       "2506     16.19\n",
       "6044      0.05\n",
       "5681     16.68\n",
       "4592     35.11\n",
       "7155     36.00\n",
       "5046      3.61\n",
       "8001      0.59\n",
       "3866      0.99\n",
       "Name: Revenue, dtype: float64"
      ]
     },
     "execution_count": 49,
     "metadata": {},
     "output_type": "execute_result"
    }
   ],
   "source": [
    "some_data_label"
   ]
  },
  {
   "cell_type": "markdown",
   "metadata": {},
   "source": [
    "This row is the same as the following dataset from the original \"movies\"-database:"
   ]
  },
  {
   "cell_type": "code",
   "execution_count": 50,
   "metadata": {},
   "outputs": [
    {
     "data": {
      "text/html": [
       "<div>\n",
       "<style scoped>\n",
       "    .dataframe tbody tr th:only-of-type {\n",
       "        vertical-align: middle;\n",
       "    }\n",
       "\n",
       "    .dataframe tbody tr th {\n",
       "        vertical-align: top;\n",
       "    }\n",
       "\n",
       "    .dataframe thead th {\n",
       "        text-align: right;\n",
       "    }\n",
       "</style>\n",
       "<table border=\"1\" class=\"dataframe\">\n",
       "  <thead>\n",
       "    <tr style=\"text-align: right;\">\n",
       "      <th></th>\n",
       "      <th>Rank</th>\n",
       "      <th>Title</th>\n",
       "      <th>Year</th>\n",
       "      <th>Score</th>\n",
       "      <th>Metascore</th>\n",
       "      <th>Genre</th>\n",
       "      <th>Vote</th>\n",
       "      <th>Director</th>\n",
       "      <th>Runtime</th>\n",
       "      <th>Revenue</th>\n",
       "      <th>Description</th>\n",
       "    </tr>\n",
       "  </thead>\n",
       "  <tbody>\n",
       "    <tr>\n",
       "      <th>3123</th>\n",
       "      <td>3124</td>\n",
       "      <td>Victor Frankenstein</td>\n",
       "      <td>2015</td>\n",
       "      <td>6.0</td>\n",
       "      <td>36.0</td>\n",
       "      <td>Drama, Horror, Sci-Fi</td>\n",
       "      <td>45259</td>\n",
       "      <td>Paul McGuigan</td>\n",
       "      <td>110</td>\n",
       "      <td>5.78</td>\n",
       "      <td>Told from Igor's perspective, we see the troub...</td>\n",
       "    </tr>\n",
       "    <tr>\n",
       "      <th>3061</th>\n",
       "      <td>3062</td>\n",
       "      <td>Battleship Potemkin</td>\n",
       "      <td>1925</td>\n",
       "      <td>8.0</td>\n",
       "      <td>NaN</td>\n",
       "      <td>Drama, History</td>\n",
       "      <td>46636</td>\n",
       "      <td>Sergei M. Eisenstein</td>\n",
       "      <td>75</td>\n",
       "      <td>0.05</td>\n",
       "      <td>In the midst of the Russian Revolution of 1905...</td>\n",
       "    </tr>\n",
       "    <tr>\n",
       "      <th>3627</th>\n",
       "      <td>3628</td>\n",
       "      <td>Bakjwi</td>\n",
       "      <td>2009</td>\n",
       "      <td>7.2</td>\n",
       "      <td>73.0</td>\n",
       "      <td>Drama, Horror, Romance</td>\n",
       "      <td>36395</td>\n",
       "      <td>Chan-wook Park</td>\n",
       "      <td>135</td>\n",
       "      <td>0.30</td>\n",
       "      <td>Through a failed medical experiment, a priest ...</td>\n",
       "    </tr>\n",
       "    <tr>\n",
       "      <th>695</th>\n",
       "      <td>696</td>\n",
       "      <td>The Sting</td>\n",
       "      <td>1973</td>\n",
       "      <td>8.3</td>\n",
       "      <td>80.0</td>\n",
       "      <td>Comedy, Crime, Drama</td>\n",
       "      <td>211112</td>\n",
       "      <td>George Roy Hill</td>\n",
       "      <td>129</td>\n",
       "      <td>159.60</td>\n",
       "      <td>Two grifters team up to pull off the ultimate ...</td>\n",
       "    </tr>\n",
       "    <tr>\n",
       "      <th>2633</th>\n",
       "      <td>2634</td>\n",
       "      <td>The Gambler</td>\n",
       "      <td>2014</td>\n",
       "      <td>6.0</td>\n",
       "      <td>55.0</td>\n",
       "      <td>Crime, Drama, Thriller</td>\n",
       "      <td>57874</td>\n",
       "      <td>Rupert Wyatt</td>\n",
       "      <td>111</td>\n",
       "      <td>33.63</td>\n",
       "      <td>Literature professor and gambler Jim Bennett's...</td>\n",
       "    </tr>\n",
       "    <tr>\n",
       "      <th>2156</th>\n",
       "      <td>2157</td>\n",
       "      <td>xXx: Return of Xander Cage</td>\n",
       "      <td>2017</td>\n",
       "      <td>5.2</td>\n",
       "      <td>42.0</td>\n",
       "      <td>Action, Adventure, Thriller</td>\n",
       "      <td>73717</td>\n",
       "      <td>D.J. Caruso</td>\n",
       "      <td>107</td>\n",
       "      <td>44.90</td>\n",
       "      <td>Xander Cage is left for dead after an incident...</td>\n",
       "    </tr>\n",
       "    <tr>\n",
       "      <th>2307</th>\n",
       "      <td>2308</td>\n",
       "      <td>Rock of Ages</td>\n",
       "      <td>2012</td>\n",
       "      <td>5.9</td>\n",
       "      <td>47.0</td>\n",
       "      <td>Comedy, Drama, Musical</td>\n",
       "      <td>68455</td>\n",
       "      <td>Adam Shankman</td>\n",
       "      <td>123</td>\n",
       "      <td>38.52</td>\n",
       "      <td>A small town girl and a city boy meet on the S...</td>\n",
       "    </tr>\n",
       "    <tr>\n",
       "      <th>2979</th>\n",
       "      <td>2980</td>\n",
       "      <td>Arthur</td>\n",
       "      <td>2011</td>\n",
       "      <td>5.7</td>\n",
       "      <td>36.0</td>\n",
       "      <td>Comedy, Romance</td>\n",
       "      <td>48239</td>\n",
       "      <td>Jason Winer</td>\n",
       "      <td>110</td>\n",
       "      <td>33.04</td>\n",
       "      <td>A drunken playboy stands to lose a wealthy inh...</td>\n",
       "    </tr>\n",
       "    <tr>\n",
       "      <th>408</th>\n",
       "      <td>409</td>\n",
       "      <td>Vertigo</td>\n",
       "      <td>1958</td>\n",
       "      <td>8.3</td>\n",
       "      <td>NaN</td>\n",
       "      <td>Mystery, Romance, Thriller</td>\n",
       "      <td>306510</td>\n",
       "      <td>Alfred Hitchcock</td>\n",
       "      <td>128</td>\n",
       "      <td>3.20</td>\n",
       "      <td>A former police detective juggles wrestling wi...</td>\n",
       "    </tr>\n",
       "    <tr>\n",
       "      <th>1172</th>\n",
       "      <td>1173</td>\n",
       "      <td>Invictus</td>\n",
       "      <td>2009</td>\n",
       "      <td>7.3</td>\n",
       "      <td>74.0</td>\n",
       "      <td>Biography, Drama, History</td>\n",
       "      <td>137826</td>\n",
       "      <td>Clint Eastwood</td>\n",
       "      <td>134</td>\n",
       "      <td>37.49</td>\n",
       "      <td>Nelson Mandela, in his first term as the South...</td>\n",
       "    </tr>\n",
       "    <tr>\n",
       "      <th>5560</th>\n",
       "      <td>5561</td>\n",
       "      <td>The Crow: City of Angels</td>\n",
       "      <td>1996</td>\n",
       "      <td>4.6</td>\n",
       "      <td>NaN</td>\n",
       "      <td>Action, Crime, Fantasy</td>\n",
       "      <td>17501</td>\n",
       "      <td>Tim Pope</td>\n",
       "      <td>84</td>\n",
       "      <td>17.88</td>\n",
       "      <td>The spirit of the Crow resurrects another man ...</td>\n",
       "    </tr>\n",
       "    <tr>\n",
       "      <th>1255</th>\n",
       "      <td>1256</td>\n",
       "      <td>Valerian and the City of a Thousand Planets</td>\n",
       "      <td>2017</td>\n",
       "      <td>6.5</td>\n",
       "      <td>51.0</td>\n",
       "      <td>Action, Adventure, Fantasy</td>\n",
       "      <td>128874</td>\n",
       "      <td>Luc Besson</td>\n",
       "      <td>137</td>\n",
       "      <td>41.19</td>\n",
       "      <td>A dark force threatens Alpha, a vast metropoli...</td>\n",
       "    </tr>\n",
       "    <tr>\n",
       "      <th>2506</th>\n",
       "      <td>2507</td>\n",
       "      <td>Wolf Creek</td>\n",
       "      <td>2005</td>\n",
       "      <td>6.3</td>\n",
       "      <td>54.0</td>\n",
       "      <td>Horror, Thriller</td>\n",
       "      <td>61927</td>\n",
       "      <td>Greg McLean</td>\n",
       "      <td>99</td>\n",
       "      <td>16.19</td>\n",
       "      <td>Three backpackers stranded in the Australian o...</td>\n",
       "    </tr>\n",
       "    <tr>\n",
       "      <th>6044</th>\n",
       "      <td>6045</td>\n",
       "      <td>The Carrier</td>\n",
       "      <td>2014</td>\n",
       "      <td>5.3</td>\n",
       "      <td>28.0</td>\n",
       "      <td>Crime, Drama, Thriller</td>\n",
       "      <td>15167</td>\n",
       "      <td>David Grovic</td>\n",
       "      <td>108</td>\n",
       "      <td>0.05</td>\n",
       "      <td>A criminal bides his time at a seedy motel, wa...</td>\n",
       "    </tr>\n",
       "    <tr>\n",
       "      <th>5681</th>\n",
       "      <td>5682</td>\n",
       "      <td>Hellraiser IV: Bloodline</td>\n",
       "      <td>1996</td>\n",
       "      <td>5.1</td>\n",
       "      <td>21.0</td>\n",
       "      <td>Horror, Sci-Fi</td>\n",
       "      <td>16957</td>\n",
       "      <td>Kevin Yagher</td>\n",
       "      <td>85</td>\n",
       "      <td>16.68</td>\n",
       "      <td>In the 22nd century, a scientist attempts to r...</td>\n",
       "    </tr>\n",
       "    <tr>\n",
       "      <th>4592</th>\n",
       "      <td>4593</td>\n",
       "      <td>Dragon: The Bruce Lee Story</td>\n",
       "      <td>1993</td>\n",
       "      <td>7.0</td>\n",
       "      <td>NaN</td>\n",
       "      <td>Action, Biography, Drama</td>\n",
       "      <td>24640</td>\n",
       "      <td>Rob Cohen</td>\n",
       "      <td>119</td>\n",
       "      <td>35.11</td>\n",
       "      <td>A fictionalized account of the life of the mar...</td>\n",
       "    </tr>\n",
       "    <tr>\n",
       "      <th>7155</th>\n",
       "      <td>7156</td>\n",
       "      <td>The Greatest Show on Earth</td>\n",
       "      <td>1952</td>\n",
       "      <td>6.7</td>\n",
       "      <td>NaN</td>\n",
       "      <td>Drama, Family, Romance</td>\n",
       "      <td>11142</td>\n",
       "      <td>Cecil B. DeMille</td>\n",
       "      <td>152</td>\n",
       "      <td>36.00</td>\n",
       "      <td>The dramatic lives of trapeze artists, a clown...</td>\n",
       "    </tr>\n",
       "    <tr>\n",
       "      <th>5046</th>\n",
       "      <td>5047</td>\n",
       "      <td>Table 19</td>\n",
       "      <td>2017</td>\n",
       "      <td>5.8</td>\n",
       "      <td>40.0</td>\n",
       "      <td>Comedy, Drama, Romance</td>\n",
       "      <td>20836</td>\n",
       "      <td>Jeffrey Blitz</td>\n",
       "      <td>87</td>\n",
       "      <td>3.61</td>\n",
       "      <td>Eloise, having been relieved of maid of honor ...</td>\n",
       "    </tr>\n",
       "    <tr>\n",
       "      <th>8001</th>\n",
       "      <td>8002</td>\n",
       "      <td>Mary Kom</td>\n",
       "      <td>2014</td>\n",
       "      <td>6.8</td>\n",
       "      <td>NaN</td>\n",
       "      <td>Action, Biography, Drama</td>\n",
       "      <td>8912</td>\n",
       "      <td>Omung Kumar</td>\n",
       "      <td>122</td>\n",
       "      <td>0.59</td>\n",
       "      <td>A chronicle of the life of Indian boxer Mary K...</td>\n",
       "    </tr>\n",
       "    <tr>\n",
       "      <th>3866</th>\n",
       "      <td>3867</td>\n",
       "      <td>Rockstar</td>\n",
       "      <td>2011</td>\n",
       "      <td>7.7</td>\n",
       "      <td>NaN</td>\n",
       "      <td>Drama, Music, Musical</td>\n",
       "      <td>33082</td>\n",
       "      <td>Imtiaz Ali</td>\n",
       "      <td>159</td>\n",
       "      <td>0.99</td>\n",
       "      <td>Janardhan Jakhar chases his dreams of becoming...</td>\n",
       "    </tr>\n",
       "  </tbody>\n",
       "</table>\n",
       "</div>"
      ],
      "text/plain": [
       "      Rank                                        Title  Year  Score  \\\n",
       "3123  3124                          Victor Frankenstein  2015    6.0   \n",
       "3061  3062                          Battleship Potemkin  1925    8.0   \n",
       "3627  3628                                       Bakjwi  2009    7.2   \n",
       "695    696                                    The Sting  1973    8.3   \n",
       "2633  2634                                  The Gambler  2014    6.0   \n",
       "2156  2157                   xXx: Return of Xander Cage  2017    5.2   \n",
       "2307  2308                                 Rock of Ages  2012    5.9   \n",
       "2979  2980                                       Arthur  2011    5.7   \n",
       "408    409                                      Vertigo  1958    8.3   \n",
       "1172  1173                                     Invictus  2009    7.3   \n",
       "5560  5561                     The Crow: City of Angels  1996    4.6   \n",
       "1255  1256  Valerian and the City of a Thousand Planets  2017    6.5   \n",
       "2506  2507                                   Wolf Creek  2005    6.3   \n",
       "6044  6045                                  The Carrier  2014    5.3   \n",
       "5681  5682                     Hellraiser IV: Bloodline  1996    5.1   \n",
       "4592  4593                  Dragon: The Bruce Lee Story  1993    7.0   \n",
       "7155  7156                   The Greatest Show on Earth  1952    6.7   \n",
       "5046  5047                                     Table 19  2017    5.8   \n",
       "8001  8002                                     Mary Kom  2014    6.8   \n",
       "3866  3867                                     Rockstar  2011    7.7   \n",
       "\n",
       "      Metascore                        Genre    Vote              Director  \\\n",
       "3123       36.0        Drama, Horror, Sci-Fi   45259         Paul McGuigan   \n",
       "3061        NaN               Drama, History   46636  Sergei M. Eisenstein   \n",
       "3627       73.0       Drama, Horror, Romance   36395        Chan-wook Park   \n",
       "695        80.0         Comedy, Crime, Drama  211112       George Roy Hill   \n",
       "2633       55.0       Crime, Drama, Thriller   57874          Rupert Wyatt   \n",
       "2156       42.0  Action, Adventure, Thriller   73717           D.J. Caruso   \n",
       "2307       47.0       Comedy, Drama, Musical   68455         Adam Shankman   \n",
       "2979       36.0              Comedy, Romance   48239           Jason Winer   \n",
       "408         NaN   Mystery, Romance, Thriller  306510      Alfred Hitchcock   \n",
       "1172       74.0    Biography, Drama, History  137826        Clint Eastwood   \n",
       "5560        NaN       Action, Crime, Fantasy   17501              Tim Pope   \n",
       "1255       51.0   Action, Adventure, Fantasy  128874            Luc Besson   \n",
       "2506       54.0             Horror, Thriller   61927           Greg McLean   \n",
       "6044       28.0       Crime, Drama, Thriller   15167          David Grovic   \n",
       "5681       21.0               Horror, Sci-Fi   16957          Kevin Yagher   \n",
       "4592        NaN     Action, Biography, Drama   24640             Rob Cohen   \n",
       "7155        NaN       Drama, Family, Romance   11142      Cecil B. DeMille   \n",
       "5046       40.0       Comedy, Drama, Romance   20836         Jeffrey Blitz   \n",
       "8001        NaN     Action, Biography, Drama    8912           Omung Kumar   \n",
       "3866        NaN        Drama, Music, Musical   33082            Imtiaz Ali   \n",
       "\n",
       "      Runtime  Revenue                                        Description  \n",
       "3123      110     5.78  Told from Igor's perspective, we see the troub...  \n",
       "3061       75     0.05  In the midst of the Russian Revolution of 1905...  \n",
       "3627      135     0.30  Through a failed medical experiment, a priest ...  \n",
       "695       129   159.60  Two grifters team up to pull off the ultimate ...  \n",
       "2633      111    33.63  Literature professor and gambler Jim Bennett's...  \n",
       "2156      107    44.90  Xander Cage is left for dead after an incident...  \n",
       "2307      123    38.52  A small town girl and a city boy meet on the S...  \n",
       "2979      110    33.04  A drunken playboy stands to lose a wealthy inh...  \n",
       "408       128     3.20  A former police detective juggles wrestling wi...  \n",
       "1172      134    37.49  Nelson Mandela, in his first term as the South...  \n",
       "5560       84    17.88  The spirit of the Crow resurrects another man ...  \n",
       "1255      137    41.19  A dark force threatens Alpha, a vast metropoli...  \n",
       "2506       99    16.19  Three backpackers stranded in the Australian o...  \n",
       "6044      108     0.05  A criminal bides his time at a seedy motel, wa...  \n",
       "5681       85    16.68  In the 22nd century, a scientist attempts to r...  \n",
       "4592      119    35.11  A fictionalized account of the life of the mar...  \n",
       "7155      152    36.00  The dramatic lives of trapeze artists, a clown...  \n",
       "5046       87     3.61  Eloise, having been relieved of maid of honor ...  \n",
       "8001      122     0.59  A chronicle of the life of Indian boxer Mary K...  \n",
       "3866      159     0.99  Janardhan Jakhar chases his dreams of becoming...  "
      ]
     },
     "execution_count": 50,
     "metadata": {},
     "output_type": "execute_result"
    }
   ],
   "source": [
    "some_movies = movies.iloc[some_data.index[0:len(some_data)]]\n",
    "some_movies"
   ]
  },
  {
   "cell_type": "markdown",
   "metadata": {},
   "source": [
    "Lets predict the revenue for this dataset:"
   ]
  },
  {
   "cell_type": "code",
   "execution_count": 51,
   "metadata": {},
   "outputs": [
    {
     "data": {
      "text/plain": [
       "[10.91,\n",
       " 0.44,\n",
       " 2.68,\n",
       " 11.99,\n",
       " 2.19,\n",
       " 26.83,\n",
       " 22.52,\n",
       " 2.19,\n",
       " 11.99,\n",
       " 16.38,\n",
       " 64.19,\n",
       " 191.45,\n",
       " 12.19,\n",
       " 3.02,\n",
       " 64.19,\n",
       " 11.54,\n",
       " 40.22,\n",
       " 19.64,\n",
       " 0.05,\n",
       " 5.48]"
      ]
     },
     "execution_count": 51,
     "metadata": {},
     "output_type": "execute_result"
    }
   ],
   "source": [
    "some_data_prepared = full_pipeline.fit_transform(some_data)\n",
    "some_data_predictions = tree_reg.predict(some_data_prepared)\n",
    "list(some_data_predictions)"
   ]
  },
  {
   "cell_type": "markdown",
   "metadata": {},
   "source": [
    "Compare this prediction to the value \"some_data_label\". "
   ]
  },
  {
   "cell_type": "code",
   "execution_count": 52,
   "metadata": {},
   "outputs": [
    {
     "data": {
      "text/plain": [
       "[5.78,\n",
       " 0.05,\n",
       " 0.3,\n",
       " 159.6,\n",
       " 33.63,\n",
       " 44.9,\n",
       " 38.52,\n",
       " 33.04,\n",
       " 3.2,\n",
       " 37.49,\n",
       " 17.88,\n",
       " 41.19,\n",
       " 16.19,\n",
       " 0.05,\n",
       " 16.68,\n",
       " 35.11,\n",
       " 36.0,\n",
       " 3.61,\n",
       " 0.59,\n",
       " 0.99]"
      ]
     },
     "execution_count": 52,
     "metadata": {},
     "output_type": "execute_result"
    }
   ],
   "source": [
    "list(some_data_label)"
   ]
  },
  {
   "cell_type": "markdown",
   "metadata": {},
   "source": [
    "Compare the true value (\"some_data_labels\") and the predicted value (\"some_data_predicitons\") side-by-side. Left side is the true value from the original movies dataset. Right side is the predicted value based on the tree model: "
   ]
  },
  {
   "cell_type": "code",
   "execution_count": 53,
   "metadata": {},
   "outputs": [
    {
     "data": {
      "text/plain": [
       "[(5.78, 10.91),\n",
       " (0.05, 0.44),\n",
       " (0.3, 2.68),\n",
       " (159.6, 11.99),\n",
       " (33.63, 2.19),\n",
       " (44.9, 26.83),\n",
       " (38.52, 22.52),\n",
       " (33.04, 2.19),\n",
       " (3.2, 11.99),\n",
       " (37.49, 16.38),\n",
       " (17.88, 64.19),\n",
       " (41.19, 191.45),\n",
       " (16.19, 12.19),\n",
       " (0.05, 3.02),\n",
       " (16.68, 64.19),\n",
       " (35.11, 11.54),\n",
       " (36.0, 40.22),\n",
       " (3.61, 19.64),\n",
       " (0.59, 0.05),\n",
       " (0.99, 5.48)]"
      ]
     },
     "execution_count": 53,
     "metadata": {},
     "output_type": "execute_result"
    }
   ],
   "source": [
    "side_by_side = [(true, pred) for true, pred in zip(list(some_data_label), list(some_data_predictions))]\n",
    "side_by_side"
   ]
  },
  {
   "cell_type": "markdown",
   "metadata": {},
   "source": [
    "The mean-squared-error is as follows: "
   ]
  },
  {
   "cell_type": "code",
   "execution_count": 54,
   "metadata": {},
   "outputs": [
    {
     "data": {
      "text/plain": [
       "51.3429319867886"
      ]
     },
     "execution_count": 54,
     "metadata": {},
     "output_type": "execute_result"
    }
   ],
   "source": [
    "mse = mean_squared_error(some_data_label, some_data_predictions)\n",
    "rmse = np.sqrt(mse)\n",
    "rmse"
   ]
  },
  {
   "cell_type": "markdown",
   "metadata": {},
   "source": [
    "Taking now the whole testing dataset: "
   ]
  },
  {
   "cell_type": "code",
   "execution_count": 55,
   "metadata": {},
   "outputs": [
    {
     "data": {
      "text/plain": [
       "54.68522284077671"
      ]
     },
     "execution_count": 55,
     "metadata": {},
     "output_type": "execute_result"
    }
   ],
   "source": [
    "movies_test_prepared =full_pipeline.fit_transform(movies_test)\n",
    "movies_test_predictions = tree_reg.predict(movies_test_prepared)\n",
    "lin_mse = mean_squared_error(movies_test_labels, movies_test_predictions)\n",
    "lin_rmse = np.sqrt(lin_mse)\n",
    "lin_rmse"
   ]
  },
  {
   "cell_type": "code",
   "execution_count": 56,
   "metadata": {},
   "outputs": [
    {
     "data": {
      "text/plain": [
       "36.2082738626228"
      ]
     },
     "execution_count": 56,
     "metadata": {},
     "output_type": "execute_result"
    }
   ],
   "source": [
    "movies_test_labels.mean()"
   ]
  },
  {
   "cell_type": "code",
   "execution_count": 57,
   "metadata": {},
   "outputs": [
    {
     "data": {
      "text/plain": [
       "60.602745133524195"
      ]
     },
     "execution_count": 57,
     "metadata": {},
     "output_type": "execute_result"
    }
   ],
   "source": [
    "movies_test_labels.std()"
   ]
  },
  {
   "cell_type": "markdown",
   "metadata": {},
   "source": [
    "A side-by-side comparison off the testing dataset. Left side is the true value from the original movies dataset. Right side is the predicted value based on the tree model: "
   ]
  },
  {
   "cell_type": "code",
   "execution_count": 58,
   "metadata": {},
   "outputs": [
    {
     "data": {
      "text/plain": [
       "[(5.78, 10.91),\n",
       " (0.05, 0.44),\n",
       " (0.3, 2.68),\n",
       " (159.6, 11.99),\n",
       " (33.63, 2.19),\n",
       " (44.9, 26.83),\n",
       " (38.52, 22.52),\n",
       " (33.04, 2.19),\n",
       " (3.2, 11.99),\n",
       " (37.49, 16.38),\n",
       " (17.88, 64.19),\n",
       " (41.19, 191.45),\n",
       " (16.19, 12.19),\n",
       " (0.05, 3.02),\n",
       " (16.68, 64.19),\n",
       " (35.11, 11.54),\n",
       " (36.0, 40.22),\n",
       " (3.61, 19.64),\n",
       " (0.59, 0.05),\n",
       " (0.99, 5.48),\n",
       " (26.12, 107.53),\n",
       " (0.0, 0.02),\n",
       " (3.45, 18.0),\n",
       " (18.87, 12.5),\n",
       " (7.92, 42.44),\n",
       " (0.67, 2.5),\n",
       " (6.11, 119.22),\n",
       " (22.92, 55.68),\n",
       " (1.54, 61.19),\n",
       " (0.9, 61.19),\n",
       " (35.38, 92.12),\n",
       " (2.49, 29.6),\n",
       " (22.0, 14.18),\n",
       " (44.34, 15.16),\n",
       " (0.77, 4.16),\n",
       " (9.8, 6.88),\n",
       " (46.46, 28.84),\n",
       " (34.25, 16.65),\n",
       " (5.88, 37.02),\n",
       " (0.02, 7.94),\n",
       " (29.13, 19.52),\n",
       " (4.91, 22.6),\n",
       " (9.06, 14.72),\n",
       " (1.83, 0.06),\n",
       " (51.73, 9.07),\n",
       " (8.91, 24.05),\n",
       " (94.01, 119.44),\n",
       " (0.15, 4.16),\n",
       " (68.54, 216.39),\n",
       " (24.15, 8.7),\n",
       " (30.63, 64.19),\n",
       " (21.37, 48.61),\n",
       " (0.01, 0.05),\n",
       " (4.06, 0.47),\n",
       " (5.11, 15.7),\n",
       " (1.11, 5.48),\n",
       " (4.04, 2.15),\n",
       " (219.96, 76.42),\n",
       " (12.32, 16.65),\n",
       " (0.03, 11.41),\n",
       " (20.35, 43.25),\n",
       " (64.06, 11.65),\n",
       " (10.4, 64.19),\n",
       " (67.9, 82.26),\n",
       " (12.71, 56.44),\n",
       " (7.0, 48.12),\n",
       " (0.3, 4.16),\n",
       " (16.19, 36.49),\n",
       " (2.0, 46.46),\n",
       " (150.39, 93.05),\n",
       " (0.03, 0.13),\n",
       " (14.33, 22.77),\n",
       " (40.08, 22.47),\n",
       " (27.09, 5.8),\n",
       " (0.03, 1.66),\n",
       " (6.12, 0.02),\n",
       " (0.01, 2.01),\n",
       " (45.52, 37.19),\n",
       " (0.1, 0.61),\n",
       " (0.03, 0.24),\n",
       " (16.25, 15.72),\n",
       " (16.69, 19.7),\n",
       " (2.4, 46.57),\n",
       " (0.7, 0.04),\n",
       " (18.3, 11.33),\n",
       " (0.41, 2.71),\n",
       " (0.69, 0.04),\n",
       " (4.96, 5.1),\n",
       " (124.03, 14.23),\n",
       " (60.24, 76.81),\n",
       " (11.55, 32.42),\n",
       " (21.59, 20.93),\n",
       " (17.53, 0.92),\n",
       " (55.12, 51.87),\n",
       " (40.59, 0.79),\n",
       " (2.78, 59.17),\n",
       " (12.48, 19.8),\n",
       " (4.46, 0.04),\n",
       " (30.52, 14.22),\n",
       " (8.11, 5.99),\n",
       " (0.65, 0.16),\n",
       " (12.0, 0.44),\n",
       " (4.97, 24.1),\n",
       " (19.35, 35.92),\n",
       " (40.85, 11.65),\n",
       " (66.53, 51.77),\n",
       " (0.03, 4.93),\n",
       " (107.51, 251.51),\n",
       " (77.59, 58.01),\n",
       " (4.35, 7.73),\n",
       " (0.2, 17.87),\n",
       " (23.34, 74.1),\n",
       " (3.59, 51.85),\n",
       " (0.1, 4.16),\n",
       " (40.36, 28.56),\n",
       " (1.34, 9.07),\n",
       " (10.51, 2.19),\n",
       " (70.98, 76.59),\n",
       " (10.01, 50.15),\n",
       " (62.32, 57.76),\n",
       " (4.48, 82.93),\n",
       " (20.95, 25.48),\n",
       " (3.5, 25.91),\n",
       " (9.62, 21.47),\n",
       " (45.36, 63.49),\n",
       " (57.01, 0.02),\n",
       " (21.21, 6.32),\n",
       " (34.87, 37.3),\n",
       " (0.18, 0.07),\n",
       " (233.92, 251.51),\n",
       " (8.17, 29.21),\n",
       " (15.54, 169.61),\n",
       " (4.24, 12.18),\n",
       " (139.85, 108.39),\n",
       " (0.34, 10.05),\n",
       " (13.4, 25.17),\n",
       " (5.72, 22.42),\n",
       " (23.75, 6.98),\n",
       " (6.71, 0.0),\n",
       " (12.01, 19.98),\n",
       " (1.02, 11.33),\n",
       " (58.88, 119.22),\n",
       " (37.56, 17.54),\n",
       " (24.81, 31.05),\n",
       " (75.76, 83.08),\n",
       " (4.89, 4.16),\n",
       " (13.96, 11.54),\n",
       " (52.08, 12.9),\n",
       " (2.02, 50.89),\n",
       " (0.13, 0.05),\n",
       " (47.89, 40.11),\n",
       " (77.91, 66.67),\n",
       " (20.63, 14.22),\n",
       " (8.89, 17.87),\n",
       " (2.84, 0.37),\n",
       " (0.15, 40.22),\n",
       " (0.03, 7.94),\n",
       " (36.78, 30.75),\n",
       " (16.35, 4.16),\n",
       " (47.48, 55.68),\n",
       " (23.98, 25.48),\n",
       " (5.1, 0.05),\n",
       " (0.85, 3.63),\n",
       " (0.51, 0.16),\n",
       " (4.78, 8.01),\n",
       " (19.02, 12.47),\n",
       " (75.59, 46.57),\n",
       " (2.23, 6.61),\n",
       " (48.17, 93.74),\n",
       " (79.57, 219.61),\n",
       " (11.03, 0.06),\n",
       " (12.13, 24.34),\n",
       " (1.67, 0.04),\n",
       " (5.73, 29.47),\n",
       " (20.92, 0.03),\n",
       " (122.01, 169.61),\n",
       " (0.36, 0.22),\n",
       " (13.28, 7.66),\n",
       " (30.7, 40.34),\n",
       " (2.25, 0.13),\n",
       " (6.11, 63.54),\n",
       " (40.07, 6.88),\n",
       " (1.03, 0.02),\n",
       " (134.52, 110.52),\n",
       " (5.37, 29.21),\n",
       " (58.17, 11.65),\n",
       " (2.0, 37.8),\n",
       " (0.45, 6.61),\n",
       " (11.04, 55.68),\n",
       " (6.52, 20.78),\n",
       " (97.4, 75.85),\n",
       " (100.24, 83.55),\n",
       " (6.3, 9.22),\n",
       " (312.43, 79.25),\n",
       " (12.73, 0.75),\n",
       " (23.8, 44.46),\n",
       " (0.01, 0.13),\n",
       " (30.23, 61.19),\n",
       " (14.69, 0.04),\n",
       " (20.11, 57.92),\n",
       " (4.4, 0.25),\n",
       " (16.27, 22.17),\n",
       " (100.33, 38.09),\n",
       " (0.48, 0.12),\n",
       " (10.02, 0.17),\n",
       " (0.17, 5.48),\n",
       " (50.61, 5.8),\n",
       " (35.01, 41.0),\n",
       " (0.05, 1.82),\n",
       " (38.18, 51.77),\n",
       " (70.09, 24.01),\n",
       " (9.38, 0.06),\n",
       " (44.07, 607.94),\n",
       " (11.96, 70.53),\n",
       " (3.59, 1.27),\n",
       " (118.31, 119.22),\n",
       " (16.03, 126.64),\n",
       " (10.96, 0.92),\n",
       " (0.08, 2.85),\n",
       " (51.58, 96.4),\n",
       " (1.5, 9.22),\n",
       " (33.77, 0.12),\n",
       " (94.13, 101.63),\n",
       " (0.08, 8.72),\n",
       " (0.37, 51.43),\n",
       " (0.19, 1.6),\n",
       " (10.28, 25.31),\n",
       " (217.35, 75.08),\n",
       " (33.24, 13.74),\n",
       " (106.4, 27.44),\n",
       " (9.17, 15.32),\n",
       " (28.18, 25.17),\n",
       " (55.6, 57.92),\n",
       " (29.14, 51.77),\n",
       " (0.21, 0.01),\n",
       " (0.01, 3.61),\n",
       " (27.81, 61.19),\n",
       " (0.69, 4.16),\n",
       " (103.03, 13.3),\n",
       " (0.45, 0.17),\n",
       " (16.04, 36.49),\n",
       " (22.37, 22.75),\n",
       " (11.27, 0.62),\n",
       " (5.73, 11.29),\n",
       " (33.67, 15.16),\n",
       " (4.06, 43.25),\n",
       " (48.82, 34.58),\n",
       " (24.45, 1.33),\n",
       " (13.96, 34.9),\n",
       " (169.11, 54.01),\n",
       " (0.41, 5.48),\n",
       " (48.24, 55.68),\n",
       " (0.0, 0.01),\n",
       " (0.0, 0.17),\n",
       " (3.48, 10.4),\n",
       " (65.0, 58.01),\n",
       " (110.33, 38.09),\n",
       " (0.23, 2.71),\n",
       " (25.53, 34.37),\n",
       " (0.29, 0.05),\n",
       " (99.05, 46.57),\n",
       " (32.85, 25.93),\n",
       " (20.76, 30.72),\n",
       " (10.02, 2.05),\n",
       " (90.71, 110.0),\n",
       " (42.72, 41.0),\n",
       " (1.23, 0.5),\n",
       " (4.26, 16.73),\n",
       " (87.4, 0.45),\n",
       " (1.99, 1.21),\n",
       " (17.02, 2.98),\n",
       " (8.66, 16.73),\n",
       " (2.98, 10.21),\n",
       " (0.62, 8.05),\n",
       " (24.88, 44.46),\n",
       " (0.74, 119.44),\n",
       " (69.6, 18.92),\n",
       " (72.27, 161.32),\n",
       " (1.5, 0.5),\n",
       " (0.35, 0.72),\n",
       " (0.2, 24.8),\n",
       " (3.75, 5.68),\n",
       " (5.01, 24.8),\n",
       " (4.0, 12.47),\n",
       " (10.0, 1.19),\n",
       " (127.0, 106.13),\n",
       " (35.35, 51.77),\n",
       " (79.0, 26.83),\n",
       " (0.08, 1.21),\n",
       " (38.41, 108.42),\n",
       " (44.59, 57.92),\n",
       " (0.58, 0.29),\n",
       " (1.22, 3.63),\n",
       " (0.47, 2.68),\n",
       " (4.5, 10.4),\n",
       " (2.25, 37.02),\n",
       " (35.74, 38.09),\n",
       " (24.2, 13.04),\n",
       " (78.22, 49.32),\n",
       " (18.59, 56.44),\n",
       " (13.08, 39.44),\n",
       " (30.23, 25.13),\n",
       " (8.1, 23.0),\n",
       " (27.55, 3.21),\n",
       " (12.97, 32.65),\n",
       " (9.02, 2.68),\n",
       " (6.39, 9.22),\n",
       " (0.11, 2.5),\n",
       " (3.19, 0.19),\n",
       " (0.72, 0.13),\n",
       " (0.28, 0.0),\n",
       " (0.07, 3.02),\n",
       " (0.54, 1.82),\n",
       " (4.71, 0.0),\n",
       " (0.1, 0.1),\n",
       " (1.98, 50.86),\n",
       " (50.57, 55.68),\n",
       " (0.21, 49.44),\n",
       " (18.9, 4.6),\n",
       " (22.47, 55.68),\n",
       " (8.27, 57.92),\n",
       " (0.02, 23.46),\n",
       " (14.73, 61.19),\n",
       " (10.3, 31.25),\n",
       " (0.02, 3.02),\n",
       " (28.48, 16.38),\n",
       " (2.6, 17.38),\n",
       " (187.17, 83.08),\n",
       " (10.3, 23.46),\n",
       " (33.42, 2.43),\n",
       " (4.44, 2.71),\n",
       " (0.17, 0.07),\n",
       " (22.36, 40.34),\n",
       " (4.1, 21.01),\n",
       " (5.93, 7.19),\n",
       " (44.91, 11.99),\n",
       " (20.29, 35.92),\n",
       " (51.1, 12.19),\n",
       " (4.63, 0.55),\n",
       " (0.03, 55.68),\n",
       " (1.01, 3.03),\n",
       " (18.09, 46.21),\n",
       " (0.21, 1.64),\n",
       " (0.38, 75.85),\n",
       " (0.05, 219.61),\n",
       " (27.36, 0.53),\n",
       " (0.52, 0.15),\n",
       " (0.15, 0.47),\n",
       " (0.13, 0.03),\n",
       " (168.37, 110.52),\n",
       " (0.48, 75.85),\n",
       " (4.55, 2.65),\n",
       " (0.09, 3.02),\n",
       " (295.98, 57.94),\n",
       " (228.78, 251.51),\n",
       " (43.58, 57.92),\n",
       " (34.6, 12.19),\n",
       " (53.09, 3.64),\n",
       " (4.03, 0.13),\n",
       " (229.09, 144.84),\n",
       " (1.91, 1.6),\n",
       " (3.25, 9.22),\n",
       " (0.02, 48.12),\n",
       " (4.87, 0.12),\n",
       " (14.96, 66.96),\n",
       " (45.32, 57.92),\n",
       " (5.02, 8.4),\n",
       " (40.39, 43.25),\n",
       " (38.43, 0.04),\n",
       " (0.66, 0.17),\n",
       " (27.4, 19.47),\n",
       " (0.47, 0.07),\n",
       " (1.21, 10.38),\n",
       " (0.26, 21.47),\n",
       " (0.65, 0.17),\n",
       " (46.89, 41.0),\n",
       " (9.66, 0.09),\n",
       " (35.86, 19.8),\n",
       " (11.01, 46.46),\n",
       " (180.2, 79.25),\n",
       " (2.84, 49.44),\n",
       " (24.04, 10.23),\n",
       " (40.47, 14.56),\n",
       " (0.02, 1.31),\n",
       " (0.02, 0.01),\n",
       " (0.12, 4.16),\n",
       " (20.26, 6.88),\n",
       " (51.37, 49.32),\n",
       " (0.09, 0.72),\n",
       " (30.66, 34.02),\n",
       " (0.01, 10.23),\n",
       " (102.83, 25.13),\n",
       " (36.02, 19.98),\n",
       " (0.15, 0.96),\n",
       " (0.05, 0.05),\n",
       " (0.3, 0.62),\n",
       " (2.41, 2.98),\n",
       " (0.73, 23.46),\n",
       " (1.78, 0.29),\n",
       " (32.7, 44.46),\n",
       " (4.49, 0.24),\n",
       " (124.74, 110.52),\n",
       " (5.48, 0.13),\n",
       " (0.08, 0.12),\n",
       " (2.56, 4.53),\n",
       " (49.04, 57.92),\n",
       " (46.81, 26.83),\n",
       " (11.44, 24.63),\n",
       " (27.9, 0.06),\n",
       " (1.22, 5.99),\n",
       " (63.07, 55.68),\n",
       " (0.03, 0.09),\n",
       " (0.1, 0.45),\n",
       " (56.44, 40.07),\n",
       " (20.39, 40.0),\n",
       " (7.99, 147.25),\n",
       " (0.26, 0.06),\n",
       " (26.69, 1.13),\n",
       " (21.8, 7.66),\n",
       " (1.36, 61.19),\n",
       " (16.3, 50.03),\n",
       " (132.42, 101.63),\n",
       " (0.05, 0.34),\n",
       " (6.58, 0.17),\n",
       " (70.01, 38.11),\n",
       " (7.03, 11.65),\n",
       " (10.34, 24.63),\n",
       " (30.06, 150.42),\n",
       " (5.85, 63.46),\n",
       " (1.01, 0.05),\n",
       " (21.16, 57.92),\n",
       " (12.42, 25.31),\n",
       " (0.1, 0.05),\n",
       " (127.81, 26.0),\n",
       " (31.97, 24.8),\n",
       " (1.06, 0.04),\n",
       " (27.07, 7.66),\n",
       " (184.03, 155.06),\n",
       " (16.03, 54.15),\n",
       " (46.0, 23.02),\n",
       " (21.38, 106.6),\n",
       " (0.25, 0.15),\n",
       " (93.6, 0.45),\n",
       " (29.56, 3.4),\n",
       " (0.0, 12.43),\n",
       " (91.26, 11.99),\n",
       " (0.07, 0.0),\n",
       " (4.42, 3.48),\n",
       " (21.02, 32.65),\n",
       " (6.92, 55.68),\n",
       " (0.67, 2.49),\n",
       " (52.9, 106.13),\n",
       " (0.62, 1.33),\n",
       " (12.74, 12.83),\n",
       " (2.59, 0.1),\n",
       " (20.06, 7.03),\n",
       " (32.94, 25.17),\n",
       " (17.07, 10.05),\n",
       " (123.09, 0.19),\n",
       " (0.15, 3.09),\n",
       " (4.17, 4.06),\n",
       " (37.72, 1.17),\n",
       " (459.01, 409.01),\n",
       " (10.72, 1.36),\n",
       " (22.18, 55.68),\n",
       " (59.95, 119.44),\n",
       " (0.19, 11.11),\n",
       " (678.82, 700.06),\n",
       " (11.0, 8.72),\n",
       " (22.53, 17.43),\n",
       " (60.05, 24.05),\n",
       " (30.7, 16.12),\n",
       " (2.14, 57.64),\n",
       " (93.93, 124.12),\n",
       " (67.79, 0.58),\n",
       " (3.08, 4.16),\n",
       " (3.85, 0.06),\n",
       " (44.34, 0.02),\n",
       " (10.1, 101.3),\n",
       " (2.13, 6.3),\n",
       " (43.31, 39.44),\n",
       " (0.23, 0.04),\n",
       " (0.0, 0.16),\n",
       " (102.8, 0.45),\n",
       " (57.65, 54.15),\n",
       " (13.56, 14.22),\n",
       " (0.8, 2.85),\n",
       " (24.91, 25.91),\n",
       " (0.67, 23.46),\n",
       " (16.57, 11.65),\n",
       " (14.26, 11.54),\n",
       " (2.27, 0.13),\n",
       " (131.56, 76.81),\n",
       " (32.07, 4.54),\n",
       " (2.04, 44.46),\n",
       " (1.01, 0.22),\n",
       " (214.03, 85.11),\n",
       " (0.03, 63.49),\n",
       " (3.29, 64.19),\n",
       " (61.28, 12.47),\n",
       " (0.07, 4.93),\n",
       " (0.93, 6.32),\n",
       " (0.0, 0.59),\n",
       " (0.07, 43.49),\n",
       " (0.03, 4.0),\n",
       " (1.83, 24.63),\n",
       " (6.0, 11.75),\n",
       " (119.79, 0.19),\n",
       " (31.21, 22.6),\n",
       " (27.69, 17.43),\n",
       " (14.5, 51.69),\n",
       " (0.1, 0.87),\n",
       " (0.72, 0.0),\n",
       " (42.0, 101.3),\n",
       " (0.02, 63.54),\n",
       " (38.58, 163.48),\n",
       " (32.22, 0.75),\n",
       " (22.15, 44.46),\n",
       " (40.22, 59.1),\n",
       " (0.9, 48.12),\n",
       " (8.1, 48.12),\n",
       " (1.03, 0.0),\n",
       " (33.36, 10.49),\n",
       " (18.99, 12.18),\n",
       " (3.05, 61.19),\n",
       " (1.71, 1.78),\n",
       " (13.9, 12.5),\n",
       " (0.34, 0.16),\n",
       " (52.36, 41.0),\n",
       " (126.37, 13.3),\n",
       " (59.84, 34.9),\n",
       " (173.59, 155.06),\n",
       " (0.44, 0.02),\n",
       " (27.19, 9.2),\n",
       " (10.17, 1.41),\n",
       " (5.98, 13.09),\n",
       " (143.53, 1.36),\n",
       " (197.17, 3.64),\n",
       " (25.53, 13.09),\n",
       " (8.03, 4.99),\n",
       " (1.0, 0.01),\n",
       " (23.2, 44.46),\n",
       " (54.33, 13.3),\n",
       " (37.9, 38.09),\n",
       " (0.16, 0.01),\n",
       " (5.31, 0.28),\n",
       " (6.74, 10.05),\n",
       " (7.27, 24.79),\n",
       " (5.32, 11.99),\n",
       " (42.61, 49.32),\n",
       " (22.66, 13.74),\n",
       " (4.07, 0.0),\n",
       " (39.57, 38.33),\n",
       " (213.31, 28.08),\n",
       " (21.49, 16.38),\n",
       " (45.95, 29.21),\n",
       " (40.15, 6.66),\n",
       " (0.06, 20.57),\n",
       " (23.98, 10.91),\n",
       " (0.1, 0.61),\n",
       " (1.8, 23.04),\n",
       " (71.02, 16.87),\n",
       " (32.95, 10.85),\n",
       " (2.12, 15.32),\n",
       " (0.44, 3.09),\n",
       " (49.88, 22.52),\n",
       " (0.65, 2.64),\n",
       " (21.85, 2.62),\n",
       " (32.72, 51.85),\n",
       " (32.19, 2.93),\n",
       " (0.06, 0.17),\n",
       " (0.1, 0.24),\n",
       " (47.92, 33.68),\n",
       " (4.04, 0.24),\n",
       " (4.11, 12.47),\n",
       " (2.5, 50.89),\n",
       " (7.33, 4.6),\n",
       " (40.9, 34.37),\n",
       " (0.09, 0.0),\n",
       " (40.9, 34.37),\n",
       " (21.67, 3.22),\n",
       " (5.32, 11.99),\n",
       " (368.06, 93.05),\n",
       " (67.35, 7.19),\n",
       " (3.79, 12.18),\n",
       " (47.85, 55.68),\n",
       " (1.27, 4.16),\n",
       " (8.55, 12.47),\n",
       " (57.02, 2.98),\n",
       " (0.08, 6.32),\n",
       " (10.98, 8.74),\n",
       " (6.35, 0.01),\n",
       " (0.04, 119.44),\n",
       " (0.15, 23.46),\n",
       " (12.29, 0.06),\n",
       " (11.43, 0.32),\n",
       " (28.5, 57.92),\n",
       " (0.88, 17.87),\n",
       " (153.67, 38.09),\n",
       " (51.76, 12.19),\n",
       " (6.11, 0.06),\n",
       " (16.32, 82.93),\n",
       " (1.3, 3.22),\n",
       " (6.74, 12.9),\n",
       " (83.59, 126.64),\n",
       " (0.01, 1.16),\n",
       " (0.05, 0.13),\n",
       " (3.89, 0.8),\n",
       " (7.95, 22.47),\n",
       " (51.98, 0.02),\n",
       " (47.64, 38.09),\n",
       " (52.61, 24.05),\n",
       " (5.0, 32.65),\n",
       " (58.57, 76.59),\n",
       " (0.33, 0.05),\n",
       " (36.25, 35.09),\n",
       " (4.2, 1.54),\n",
       " (10.66, 9.22),\n",
       " (16.15, 16.28),\n",
       " (1.49, 0.61),\n",
       " (2.71, 55.68),\n",
       " (4.36, 0.78),\n",
       " (2.28, 2.2),\n",
       " (10.25, 9.22),\n",
       " (0.38, 2.87),\n",
       " (0.13, 0.03),\n",
       " (67.8, 35.09),\n",
       " (28.83, 61.19),\n",
       " (118.87, 59.95),\n",
       " (101.47, 93.05),\n",
       " (0.33, 0.75),\n",
       " (26.54, 4.73),\n",
       " (0.01, 0.02),\n",
       " (290.01, 216.54),\n",
       " (0.14, 5.48),\n",
       " (0.17, 0.17),\n",
       " (54.97, 44.46),\n",
       " (83.29, 75.79),\n",
       " (14.29, 14.22),\n",
       " (75.6, 216.54),\n",
       " (66.02, 119.44),\n",
       " (66.6, 38.09),\n",
       " (2.07, 2.01),\n",
       " (21.73, 24.1),\n",
       " (0.48, 0.07),\n",
       " (48.96, 148.42),\n",
       " (127.12, 38.09),\n",
       " (113.33, 100.92),\n",
       " (3.43, 0.85),\n",
       " (0.3, 0.59),\n",
       " (13.75, 7.19),\n",
       " (24.16, 30.0),\n",
       " (0.01, 4.43),\n",
       " (53.86, 25.13),\n",
       " (136.03, 59.1),\n",
       " (32.17, 26.0),\n",
       " (3.69, 0.01),\n",
       " (82.58, 8.7),\n",
       " (1.07, 4.16),\n",
       " (12.2, 8.51),\n",
       " (12.9, 23.72),\n",
       " (0.26, 61.19),\n",
       " (0.13, 0.06),\n",
       " (33.42, 219.61),\n",
       " (17.34, 76.59),\n",
       " (0.01, 2.3),\n",
       " (75.29, 24.79),\n",
       " (0.07, 50.86),\n",
       " (17.32, 12.19),\n",
       " (2.07, 2.68),\n",
       " (1.87, 20.57),\n",
       " (23.02, 25.17),\n",
       " (67.41, 31.25),\n",
       " (57.36, 67.13),\n",
       " (202.36, 79.25),\n",
       " (0.64, 4.16),\n",
       " (50.7, 55.29),\n",
       " (9.58, 22.75),\n",
       " (0.41, 1.64),\n",
       " (59.51, 49.32),\n",
       " (42.65, 0.17),\n",
       " (0.39, 18.7),\n",
       " (1.06, 43.49),\n",
       " (17.33, 59.17),\n",
       " (101.65, 155.06),\n",
       " (32.48, 13.74),\n",
       " (0.01, 0.12),\n",
       " (56.57, 46.21),\n",
       " (4.6, 17.47),\n",
       " (1.07, 0.63),\n",
       " (107.1, 208.55),\n",
       " (7.49, 56.44),\n",
       " (8.02, 20.93),\n",
       " (0.0, 16.73),\n",
       " (0.0, 1.21),\n",
       " (0.1, 0.62),\n",
       " (39.12, 38.09),\n",
       " (381.01, 141.32),\n",
       " (155.33, 113.2),\n",
       " (4.24, 24.79),\n",
       " (11.66, 5.1),\n",
       " (0.23, 0.12),\n",
       " (37.31, 51.77),\n",
       " (4.83, 0.78),\n",
       " (3.68, 50.86),\n",
       " (0.01, 0.04),\n",
       " (4.85, 44.47),\n",
       " (4.69, 0.12),\n",
       " (37.96, 34.58),\n",
       " (123.31, 50.86),\n",
       " (17.78, 19.64),\n",
       " (80.05, 110.52),\n",
       " (31.89, 1.78),\n",
       " (172.96, 18.34),\n",
       " (4.5, 12.37),\n",
       " (41.31, 2.09),\n",
       " (1.01, 0.17),\n",
       " (166.17, 113.2),\n",
       " (0.13, 4.33),\n",
       " (113.75, 10.71),\n",
       " (8.72, 11.99),\n",
       " (353.01, 144.84),\n",
       " (1.51, 91.44),\n",
       " (17.18, 0.29),\n",
       " (1.02, 6.32),\n",
       " (3.56, 16.28),\n",
       " (58.4, 93.05),\n",
       " (3.2, 0.34),\n",
       " (0.15, 1.21),\n",
       " (0.0, 2.65),\n",
       " (101.36, 76.81),\n",
       " (0.1, 0.0),\n",
       " (19.66, 44.13),\n",
       " (19.76, 37.02),\n",
       " (5.01, 12.19),\n",
       " (1.73, 2.68),\n",
       " (0.21, 2.65),\n",
       " (52.89, 19.98),\n",
       " (0.34, 2.37),\n",
       " (23.98, 38.09),\n",
       " (0.53, 3.02),\n",
       " (5.97, 0.01),\n",
       " (3.91, 35.92),\n",
       " (0.54, 0.72),\n",
       " (35.77, 18.39),\n",
       " (0.01, 9.07),\n",
       " (2.09, 0.03),\n",
       " (26.59, 42.1),\n",
       " (5.78, 3.02),\n",
       " (20.04, 6.77),\n",
       " (20.77, 2.98),\n",
       " (174.64, 5.8),\n",
       " (24.28, 2.09),\n",
       " (20.34, 21.47),\n",
       " (7.87, 11.54),\n",
       " (31.05, 30.75),\n",
       " (2.22, 2.85),\n",
       " (100.25, 0.09),\n",
       " (0.24, 6.98),\n",
       " (209.84, 144.84),\n",
       " (4.25, 0.29),\n",
       " (15.59, 48.12),\n",
       " (4.75, 4.93),\n",
       " (47.81, 119.44),\n",
       " (10.73, 2.15),\n",
       " (6.17, 10.05),\n",
       " (36.66, 75.85),\n",
       " (75.62, 16.38),\n",
       " (0.54, 0.13),\n",
       " (0.11, 47.95),\n",
       " (0.38, 1.19),\n",
       " (21.2, 17.61),\n",
       " (1.36, 2.68),\n",
       " (10.28, 0.06),\n",
       " (158.35, 75.79),\n",
       " (47.39, 83.55),\n",
       " (14.88, 1.31),\n",
       " (10.98, 15.7),\n",
       " (18.66, 94.1),\n",
       " (57.55, 37.71),\n",
       " (63.27, 14.23),\n",
       " (153.71, 3.78),\n",
       " (41.87, 90.29),\n",
       " (5.74, 17.54),\n",
       " (0.23, 36.73),\n",
       " (20.25, 0.92),\n",
       " (16.03, 4.6),\n",
       " (1.81, 0.22),\n",
       " (1.78, 0.85),\n",
       " (53.7, 83.08),\n",
       " (57.74, 119.44),\n",
       " (16.29, 50.86),\n",
       " (0.75, 16.28),\n",
       " (98.47, 31.16),\n",
       " (404.52, 43.48),\n",
       " (38.91, 57.92),\n",
       " (17.0, 12.19),\n",
       " (41.6, 83.08),\n",
       " (126.74, 14.18),\n",
       " (0.18, 12.43),\n",
       " (0.15, 0.03),\n",
       " (1.74, 1.82),\n",
       " (4.61, 0.06),\n",
       " (39.52, 90.29),\n",
       " (1.53, 2.2),\n",
       " (87.24, 126.64),\n",
       " (111.76, 219.61),\n",
       " (25.93, 19.8),\n",
       " (2.4, 57.64),\n",
       " (178.41, 24.01),\n",
       " (0.81, 1.6),\n",
       " (0.21, 21.47),\n",
       " (206.45, 59.1),\n",
       " (330.25, 107.93),\n",
       " (39.2, 75.08),\n",
       " (116.72, 26.0),\n",
       " (16.52, 33.68),\n",
       " (292.58, 167.77),\n",
       " (0.78, 1.16),\n",
       " (0.03, 0.19),\n",
       " (7.44, 6.32),\n",
       " (142.11, 135.65),\n",
       " (158.12, 94.1),\n",
       " (24.01, 30.01),\n",
       " (81.26, 26.0),\n",
       " (75.6, 5.66),\n",
       " (8.24, 1.54),\n",
       " (40.26, 13.3),\n",
       " (270.4, 40.07),\n",
       " (40.57, 17.27),\n",
       " (112.95, 219.61),\n",
       " (130.17, 13.79),\n",
       " (5.88, 12.47),\n",
       " (2.74, 18.44),\n",
       " (11.5, 7.84),\n",
       " (17.58, 22.6),\n",
       " (41.68, 17.27),\n",
       " (16.06, 34.37),\n",
       " (0.05, 0.0),\n",
       " (0.02, 0.03),\n",
       " (0.1, 48.12),\n",
       " (29.75, 38.09),\n",
       " (281.29, 83.55),\n",
       " (6.47, 50.03),\n",
       " (2.7, 7.86),\n",
       " (69.85, 101.3),\n",
       " (69.69, 25.17),\n",
       " (6.74, 44.13),\n",
       " (45.59, 8.74),\n",
       " (1.66, 0.83),\n",
       " (32.02, 40.83),\n",
       " (95.46, 27.44),\n",
       " (13.5, 10.14),\n",
       " (1.72, 1.66),\n",
       " (37.63, 85.16),\n",
       " (5.98, 10.91),\n",
       " (322.74, 107.93),\n",
       " (36.05, 14.38),\n",
       " (0.18, 32.7),\n",
       " (1.5, 18.34),\n",
       " (4.36, 0.1),\n",
       " (0.01, 0.87),\n",
       " (6.17, 2.85),\n",
       " (0.53, 0.53),\n",
       " (9.09, 1.93),\n",
       " (124.99, 257.73),\n",
       " (14.8, 12.83),\n",
       " (0.03, 0.22),\n",
       " (32.42, 38.09),\n",
       " (42.09, 90.29),\n",
       " (0.61, 0.13),\n",
       " (0.01, 0.18),\n",
       " (49.49, 44.31),\n",
       " (20.82, 110.0),\n",
       " (30.58, 24.63),\n",
       " (10.3, 14.18),\n",
       " (0.33, 35.92),\n",
       " (22.53, 0.09),\n",
       " (198.54, 155.06),\n",
       " (0.63, 2.9),\n",
       " (17.18, 20.93),\n",
       " (5.92, 0.75),\n",
       " (4.08, 43.49),\n",
       " (0.05, 0.03),\n",
       " (11.4, 12.47),\n",
       " (30.36, 15.17),\n",
       " (217.63, 134.07),\n",
       " (4.43, 6.32),\n",
       " (2.78, 3.36),\n",
       " (17.1, 6.88),\n",
       " (37.49, 10.91),\n",
       " (82.39, 36.66),\n",
       " (63.45, 59.95),\n",
       " (36.61, 29.3),\n",
       " (104.45, 41.0),\n",
       " (0.55, 4.43),\n",
       " (1.2, 106.13),\n",
       " (21.97, 55.68),\n",
       " (155.44, 144.84),\n",
       " (0.54, 13.47),\n",
       " (17.37, 64.19),\n",
       " (36.95, 134.07),\n",
       " (18.64, 60.53),\n",
       " (16.65, 48.12),\n",
       " (126.48, 79.25),\n",
       " (44.36, 55.68),\n",
       " (9.72, 3.36),\n",
       " (47.21, 24.79),\n",
       " (11.0, 33.19),\n",
       " (0.07, 26.82),\n",
       " (0.16, 77.04),\n",
       " (16.94, 61.19),\n",
       " (0.75, 1.21),\n",
       " (38.54, 0.09),\n",
       " (0.0, 1.31),\n",
       " (28.97, 2.93),\n",
       " (1.79, 61.19),\n",
       " (78.91, 24.8),\n",
       " (2.48, 0.21),\n",
       " (19.45, 28.84),\n",
       " (1.09, 6.61),\n",
       " (1.1, 11.41),\n",
       " (0.64, 17.54),\n",
       " (21.46, 4.6),\n",
       " (0.28, 0.12),\n",
       " (0.69, 51.69),\n",
       " (11.88, 9.22),\n",
       " (14.25, 75.85),\n",
       " (152.9, 40.83),\n",
       " (62.58, 94.1),\n",
       " (0.01, 0.1),\n",
       " (32.38, 38.25),\n",
       " (11.5, 12.47),\n",
       " (0.22, 4.16),\n",
       " (111.54, 24.79),\n",
       " (0.11, 0.04),\n",
       " (0.05, 16.87),\n",
       " (19.78, 51.87),\n",
       " (60.66, 1.54),\n",
       " (47.14, 55.68),\n",
       " (0.46, 0.61),\n",
       " (7.89, 11.54),\n",
       " (0.78, 55.29),\n",
       " (5.0, 8.72),\n",
       " (63.9, 134.07),\n",
       " (0.01, 16.73),\n",
       " (10.06, 85.16),\n",
       " (125.62, 74.1),\n",
       " (28.2, 10.9),\n",
       " (0.97, 70.53),\n",
       " (0.25, 0.12),\n",
       " (3.5, 0.22),\n",
       " (25.1, 24.63),\n",
       " (26.0, 14.22),\n",
       " (1.82, 0.12),\n",
       " (15.05, 73.03),\n",
       " (22.16, 28.56),\n",
       " (0.01, 1.13),\n",
       " (93.39, 119.44),\n",
       " (11.09, 11.81),\n",
       " (54.93, 75.79),\n",
       " (12.82, 39.44),\n",
       " (120.62, 41.0),\n",
       " (18.0, 43.25),\n",
       " (78.03, 58.06),\n",
       " (38.05, 83.35),\n",
       " (0.05, 24.48),\n",
       " (0.13, 0.16),\n",
       " (30.65, 106.6),\n",
       " (4.36, 12.37),\n",
       " (2.26, 0.29),\n",
       " (0.02, 0.1),\n",
       " (3.64, 11.65),\n",
       " (34.07, 0.06),\n",
       " (52.0, 76.42),\n",
       " (111.72, 13.47),\n",
       " (64.43, 24.8),\n",
       " (11.56, 8.01),\n",
       " (1.78, 6.61),\n",
       " (20.1, 24.05),\n",
       " (1.01, 1.65),\n",
       " (15.65, 13.74),\n",
       " (0.01, 0.13),\n",
       " (29.33, 46.75),\n",
       " (13.99, 3.78),\n",
       " (35.93, 3.75),\n",
       " (2.61, 20.28),\n",
       " (8.18, 107.53),\n",
       " (0.3, 0.62),\n",
       " (4.11, 1.82),\n",
       " (66.93, 28.56),\n",
       " (1.98, 0.05),\n",
       " (127.51, 251.51),\n",
       " (121.46, 251.51),\n",
       " (30.21, 22.52),\n",
       " (64.04, 106.13),\n",
       " (13.25, 19.7),\n",
       " (44.79, 14.18),\n",
       " (0.3, 0.0),\n",
       " (0.14, 2.68),\n",
       " ...]"
      ]
     },
     "execution_count": 58,
     "metadata": {},
     "output_type": "execute_result"
    }
   ],
   "source": [
    "side_by_side = [(true, pred) for true, pred in zip(list(movies_test_labels), list(movies_test_predictions))]\n",
    "side_by_side"
   ]
  },
  {
   "cell_type": "markdown",
   "metadata": {},
   "source": [
    "Plotting the true labels and the predicted labels on the testing dataset: "
   ]
  },
  {
   "cell_type": "code",
   "execution_count": 59,
   "metadata": {},
   "outputs": [
    {
     "data": {
      "image/png": "[encoded data removed]",
      "text/plain": [
       "<Figure size 576x576 with 1 Axes>"
      ]
     },
     "metadata": {
      "needs_background": "light"
     },
     "output_type": "display_data"
    }
   ],
   "source": [
    "fig, ax = plt.subplots(figsize=(8, 8))\n",
    "pts = ax.scatter(movies_test_predictions, movies_test_labels, s=10, alpha=0.8)"
   ]
  },
  {
   "cell_type": "markdown",
   "metadata": {},
   "source": [
    "Looks confusing. I would have expected something a bit more similar to the following plot.\n",
    "\n",
    "Plotting the same for the training dataset: "
   ]
  },
  {
   "cell_type": "code",
   "execution_count": 60,
   "metadata": {},
   "outputs": [
    {
     "data": {
      "image/png": "[encoded data removed]",
      "text/plain": [
       "<Figure size 576x432 with 1 Axes>"
      ]
     },
     "metadata": {
      "needs_background": "light"
     },
     "output_type": "display_data"
    }
   ],
   "source": [
    "movies_train_prepared =full_pipeline.fit_transform(movies_train)\n",
    "movies_train_predictions = tree_reg.predict(movies_train_prepared)\n",
    "fig, ax = plt.subplots(figsize=(8, 6))\n",
    "pts = ax.scatter(movies_train_predictions, movies_train_labels, s=10, alpha=0.8)"
   ]
  },
  {
   "cell_type": "markdown",
   "metadata": {},
   "source": [
    "Now I calculate the \"Revenue\" where it has \"NaN\"-values:"
   ]
  },
  {
   "cell_type": "code",
   "execution_count": 61,
   "metadata": {},
   "outputs": [],
   "source": [
    "movies_RevenueNaN_prepared =full_pipeline.fit_transform(movies_RevenueNaN)\n",
    "movies_RevenueNaN_predictions = tree_reg.predict(movies_RevenueNaN_prepared)"
   ]
  },
  {
   "cell_type": "markdown",
   "metadata": {},
   "source": [
    "These are the predictions:"
   ]
  },
  {
   "cell_type": "code",
   "execution_count": 62,
   "metadata": {},
   "outputs": [
    {
     "data": {
      "text/plain": [
       "array([74.1 , 11.99, 83.08, ...,  2.98, 43.49, 47.29])"
      ]
     },
     "execution_count": 62,
     "metadata": {},
     "output_type": "execute_result"
    }
   ],
   "source": [
    "movies_RevenueNaN_predictions"
   ]
  },
  {
   "cell_type": "markdown",
   "metadata": {},
   "source": [
    "I will insert the prediction into the dataset:"
   ]
  },
  {
   "cell_type": "code",
   "execution_count": 63,
   "metadata": {},
   "outputs": [
    {
     "name": "stderr",
     "output_type": "stream",
     "text": [
      "C:\\Users\\andre\\Anaconda3\\lib\\site-packages\\pandas\\core\\indexing.py:965: SettingWithCopyWarning: \n",
      "A value is trying to be set on a copy of a slice from a DataFrame.\n",
      "Try using .loc[row_indexer,col_indexer] = value instead\n",
      "\n",
      "See the caveats in the documentation: https://pandas.pydata.org/pandas-docs/stable/user_guide/indexing.html#returning-a-view-versus-a-copy\n",
      "  self.obj[item] = s\n"
     ]
    }
   ],
   "source": [
    "movies_RevenueNaN.loc[:,\"Revenue\"] = movies_RevenueNaN_predictions"
   ]
  },
  {
   "cell_type": "code",
   "execution_count": 64,
   "metadata": {},
   "outputs": [
    {
     "data": {
      "text/html": [
       "<div>\n",
       "<style scoped>\n",
       "    .dataframe tbody tr th:only-of-type {\n",
       "        vertical-align: middle;\n",
       "    }\n",
       "\n",
       "    .dataframe tbody tr th {\n",
       "        vertical-align: top;\n",
       "    }\n",
       "\n",
       "    .dataframe thead th {\n",
       "        text-align: right;\n",
       "    }\n",
       "</style>\n",
       "<table border=\"1\" class=\"dataframe\">\n",
       "  <thead>\n",
       "    <tr style=\"text-align: right;\">\n",
       "      <th></th>\n",
       "      <th>Rank</th>\n",
       "      <th>Title</th>\n",
       "      <th>Year</th>\n",
       "      <th>Score</th>\n",
       "      <th>Metascore</th>\n",
       "      <th>Genre</th>\n",
       "      <th>Vote</th>\n",
       "      <th>Director</th>\n",
       "      <th>Runtime</th>\n",
       "      <th>Revenue</th>\n",
       "      <th>Description</th>\n",
       "    </tr>\n",
       "  </thead>\n",
       "  <tbody>\n",
       "    <tr>\n",
       "      <th>82</th>\n",
       "      <td>83</td>\n",
       "      <td>A Clockwork Orange</td>\n",
       "      <td>1971</td>\n",
       "      <td>8.3</td>\n",
       "      <td>80.0</td>\n",
       "      <td>Crime, Drama, Sci-Fi</td>\n",
       "      <td>662768</td>\n",
       "      <td>Stanley Kubrick</td>\n",
       "      <td>136</td>\n",
       "      <td>74.10</td>\n",
       "      <td>In the future, a sadistic gang leader is impri...</td>\n",
       "    </tr>\n",
       "    <tr>\n",
       "      <th>513</th>\n",
       "      <td>514</td>\n",
       "      <td>To Kill a Mockingbird</td>\n",
       "      <td>1962</td>\n",
       "      <td>8.3</td>\n",
       "      <td>87.0</td>\n",
       "      <td>Crime, Drama</td>\n",
       "      <td>262064</td>\n",
       "      <td>Robert Mulligan</td>\n",
       "      <td>129</td>\n",
       "      <td>11.99</td>\n",
       "      <td>Atticus Finch, a lawyer in the Depression-era ...</td>\n",
       "    </tr>\n",
       "    <tr>\n",
       "      <th>581</th>\n",
       "      <td>582</td>\n",
       "      <td>Death Proof</td>\n",
       "      <td>2007</td>\n",
       "      <td>7.0</td>\n",
       "      <td>NaN</td>\n",
       "      <td>Action, Thriller</td>\n",
       "      <td>236539</td>\n",
       "      <td>Quentin Tarantino</td>\n",
       "      <td>113</td>\n",
       "      <td>83.08</td>\n",
       "      <td>Two separate sets of voluptuous women are stal...</td>\n",
       "    </tr>\n",
       "    <tr>\n",
       "      <th>620</th>\n",
       "      <td>621</td>\n",
       "      <td>My Neighbour Totoro</td>\n",
       "      <td>1988</td>\n",
       "      <td>8.2</td>\n",
       "      <td>86.0</td>\n",
       "      <td>Animation, Family, Fantasy</td>\n",
       "      <td>226126</td>\n",
       "      <td>Hayao Miyazaki</td>\n",
       "      <td>86</td>\n",
       "      <td>75.08</td>\n",
       "      <td>When two girls move to the country to be near ...</td>\n",
       "    </tr>\n",
       "    <tr>\n",
       "      <th>685</th>\n",
       "      <td>686</td>\n",
       "      <td>Hachi: A Dog's Tale</td>\n",
       "      <td>2009</td>\n",
       "      <td>8.1</td>\n",
       "      <td>NaN</td>\n",
       "      <td>Drama, Family</td>\n",
       "      <td>212349</td>\n",
       "      <td>Lasse Hallström</td>\n",
       "      <td>93</td>\n",
       "      <td>75.08</td>\n",
       "      <td>A college professor's bond with the abandoned ...</td>\n",
       "    </tr>\n",
       "    <tr>\n",
       "      <th>...</th>\n",
       "      <td>...</td>\n",
       "      <td>...</td>\n",
       "      <td>...</td>\n",
       "      <td>...</td>\n",
       "      <td>...</td>\n",
       "      <td>...</td>\n",
       "      <td>...</td>\n",
       "      <td>...</td>\n",
       "      <td>...</td>\n",
       "      <td>...</td>\n",
       "      <td>...</td>\n",
       "    </tr>\n",
       "    <tr>\n",
       "      <th>9993</th>\n",
       "      <td>9994</td>\n",
       "      <td>The Infidel</td>\n",
       "      <td>2010</td>\n",
       "      <td>6.4</td>\n",
       "      <td>57.0</td>\n",
       "      <td>Comedy, Drama</td>\n",
       "      <td>6024</td>\n",
       "      <td>Josh Appignanesi</td>\n",
       "      <td>105</td>\n",
       "      <td>43.49</td>\n",
       "      <td>An identity crisis comedy centred on Mahmud Na...</td>\n",
       "    </tr>\n",
       "    <tr>\n",
       "      <th>9996</th>\n",
       "      <td>9997</td>\n",
       "      <td>Stachka</td>\n",
       "      <td>1925</td>\n",
       "      <td>7.6</td>\n",
       "      <td>NaN</td>\n",
       "      <td>Drama</td>\n",
       "      <td>6021</td>\n",
       "      <td>Sergei M. Eisenstein</td>\n",
       "      <td>95</td>\n",
       "      <td>0.10</td>\n",
       "      <td>A group of oppressed factory workers go on str...</td>\n",
       "    </tr>\n",
       "    <tr>\n",
       "      <th>9997</th>\n",
       "      <td>9998</td>\n",
       "      <td>November Criminals</td>\n",
       "      <td>2017</td>\n",
       "      <td>5.3</td>\n",
       "      <td>31.0</td>\n",
       "      <td>Crime, Drama, Mystery</td>\n",
       "      <td>6020</td>\n",
       "      <td>Sacha Gervasi</td>\n",
       "      <td>85</td>\n",
       "      <td>2.98</td>\n",
       "      <td>After his friend is murdered, a Washington, D....</td>\n",
       "    </tr>\n",
       "    <tr>\n",
       "      <th>9998</th>\n",
       "      <td>9999</td>\n",
       "      <td>120</td>\n",
       "      <td>2008</td>\n",
       "      <td>7.3</td>\n",
       "      <td>NaN</td>\n",
       "      <td>Drama, History, War</td>\n",
       "      <td>6018</td>\n",
       "      <td>Özhan Eren</td>\n",
       "      <td>114</td>\n",
       "      <td>43.49</td>\n",
       "      <td>During the Sarikamis Battle, the Ottoman army ...</td>\n",
       "    </tr>\n",
       "    <tr>\n",
       "      <th>9999</th>\n",
       "      <td>10000</td>\n",
       "      <td>The Terror</td>\n",
       "      <td>1963</td>\n",
       "      <td>5.0</td>\n",
       "      <td>NaN</td>\n",
       "      <td>Horror, Thriller</td>\n",
       "      <td>6015</td>\n",
       "      <td>Roger Corman</td>\n",
       "      <td>81</td>\n",
       "      <td>47.29</td>\n",
       "      <td>A young officer in Napoleon's Army pursues a m...</td>\n",
       "    </tr>\n",
       "  </tbody>\n",
       "</table>\n",
       "<p>2527 rows × 11 columns</p>\n",
       "</div>"
      ],
      "text/plain": [
       "       Rank                  Title  Year  Score  Metascore  \\\n",
       "82       83     A Clockwork Orange  1971    8.3       80.0   \n",
       "513     514  To Kill a Mockingbird  1962    8.3       87.0   \n",
       "581     582            Death Proof  2007    7.0        NaN   \n",
       "620     621    My Neighbour Totoro  1988    8.2       86.0   \n",
       "685     686    Hachi: A Dog's Tale  2009    8.1        NaN   \n",
       "...     ...                    ...   ...    ...        ...   \n",
       "9993   9994            The Infidel  2010    6.4       57.0   \n",
       "9996   9997                Stachka  1925    7.6        NaN   \n",
       "9997   9998     November Criminals  2017    5.3       31.0   \n",
       "9998   9999                    120  2008    7.3        NaN   \n",
       "9999  10000             The Terror  1963    5.0        NaN   \n",
       "\n",
       "                           Genre    Vote              Director  Runtime  \\\n",
       "82          Crime, Drama, Sci-Fi  662768       Stanley Kubrick      136   \n",
       "513                 Crime, Drama  262064       Robert Mulligan      129   \n",
       "581             Action, Thriller  236539     Quentin Tarantino      113   \n",
       "620   Animation, Family, Fantasy  226126        Hayao Miyazaki       86   \n",
       "685                Drama, Family  212349       Lasse Hallström       93   \n",
       "...                          ...     ...                   ...      ...   \n",
       "9993               Comedy, Drama    6024      Josh Appignanesi      105   \n",
       "9996                       Drama    6021  Sergei M. Eisenstein       95   \n",
       "9997       Crime, Drama, Mystery    6020         Sacha Gervasi       85   \n",
       "9998         Drama, History, War    6018            Özhan Eren      114   \n",
       "9999            Horror, Thriller    6015          Roger Corman       81   \n",
       "\n",
       "      Revenue                                        Description  \n",
       "82      74.10  In the future, a sadistic gang leader is impri...  \n",
       "513     11.99  Atticus Finch, a lawyer in the Depression-era ...  \n",
       "581     83.08  Two separate sets of voluptuous women are stal...  \n",
       "620     75.08  When two girls move to the country to be near ...  \n",
       "685     75.08  A college professor's bond with the abandoned ...  \n",
       "...       ...                                                ...  \n",
       "9993    43.49  An identity crisis comedy centred on Mahmud Na...  \n",
       "9996     0.10  A group of oppressed factory workers go on str...  \n",
       "9997     2.98  After his friend is murdered, a Washington, D....  \n",
       "9998    43.49  During the Sarikamis Battle, the Ottoman army ...  \n",
       "9999    47.29  A young officer in Napoleon's Army pursues a m...  \n",
       "\n",
       "[2527 rows x 11 columns]"
      ]
     },
     "execution_count": 64,
     "metadata": {},
     "output_type": "execute_result"
    }
   ],
   "source": [
    "movies_RevenueNaN"
   ]
  },
  {
   "cell_type": "markdown",
   "metadata": {},
   "source": [
    "# Future amendments"
   ]
  },
  {
   "cell_type": "markdown",
   "metadata": {},
   "source": [
    "The movies dataset has the following columns (including \"Revenue\" which I wanted to predict):"
   ]
  },
  {
   "cell_type": "code",
   "execution_count": 65,
   "metadata": {},
   "outputs": [
    {
     "data": {
      "text/html": [
       "<div>\n",
       "<style scoped>\n",
       "    .dataframe tbody tr th:only-of-type {\n",
       "        vertical-align: middle;\n",
       "    }\n",
       "\n",
       "    .dataframe tbody tr th {\n",
       "        vertical-align: top;\n",
       "    }\n",
       "\n",
       "    .dataframe thead th {\n",
       "        text-align: right;\n",
       "    }\n",
       "</style>\n",
       "<table border=\"1\" class=\"dataframe\">\n",
       "  <thead>\n",
       "    <tr style=\"text-align: right;\">\n",
       "      <th></th>\n",
       "      <th>Rank</th>\n",
       "      <th>Title</th>\n",
       "      <th>Year</th>\n",
       "      <th>Score</th>\n",
       "      <th>Metascore</th>\n",
       "      <th>Genre</th>\n",
       "      <th>Vote</th>\n",
       "      <th>Director</th>\n",
       "      <th>Runtime</th>\n",
       "      <th>Revenue</th>\n",
       "      <th>Description</th>\n",
       "    </tr>\n",
       "  </thead>\n",
       "  <tbody>\n",
       "  </tbody>\n",
       "</table>\n",
       "</div>"
      ],
      "text/plain": [
       "Empty DataFrame\n",
       "Columns: [Rank, Title, Year, Score, Metascore, Genre, Vote, Director, Runtime, Revenue, Description]\n",
       "Index: []"
      ]
     },
     "execution_count": 65,
     "metadata": {},
     "output_type": "execute_result"
    }
   ],
   "source": [
    "movies.head(0)"
   ]
  },
  {
   "cell_type": "markdown",
   "metadata": {},
   "source": [
    "But the model is only taking the follwing columns into consideration: "
   ]
  },
  {
   "cell_type": "code",
   "execution_count": 66,
   "metadata": {},
   "outputs": [
    {
     "data": {
      "text/plain": [
       "['Rank', 'Year', 'Score', 'Metascore', 'Vote', 'Runtime']"
      ]
     },
     "execution_count": 66,
     "metadata": {},
     "output_type": "execute_result"
    }
   ],
   "source": [
    "num_attribs"
   ]
  },
  {
   "cell_type": "markdown",
   "metadata": {},
   "source": [
    "Remember, that the dataset, which is used for the model looks as follows (all non-numeric columns disappeared): "
   ]
  },
  {
   "cell_type": "code",
   "execution_count": 67,
   "metadata": {},
   "outputs": [
    {
     "data": {
      "text/html": [
       "<div>\n",
       "<style scoped>\n",
       "    .dataframe tbody tr th:only-of-type {\n",
       "        vertical-align: middle;\n",
       "    }\n",
       "\n",
       "    .dataframe tbody tr th {\n",
       "        vertical-align: top;\n",
       "    }\n",
       "\n",
       "    .dataframe thead th {\n",
       "        text-align: right;\n",
       "    }\n",
       "</style>\n",
       "<table border=\"1\" class=\"dataframe\">\n",
       "  <thead>\n",
       "    <tr style=\"text-align: right;\">\n",
       "      <th></th>\n",
       "      <th>Rank</th>\n",
       "      <th>Year</th>\n",
       "      <th>Score</th>\n",
       "      <th>Metascore</th>\n",
       "      <th>Vote</th>\n",
       "      <th>Runtime</th>\n",
       "    </tr>\n",
       "  </thead>\n",
       "  <tbody>\n",
       "    <tr>\n",
       "      <th>733</th>\n",
       "      <td>734.0</td>\n",
       "      <td>2007.0</td>\n",
       "      <td>6.3</td>\n",
       "      <td>68.0</td>\n",
       "      <td>204005.0</td>\n",
       "      <td>86.0</td>\n",
       "    </tr>\n",
       "    <tr>\n",
       "      <th>5851</th>\n",
       "      <td>5852.0</td>\n",
       "      <td>2003.0</td>\n",
       "      <td>5.2</td>\n",
       "      <td>21.0</td>\n",
       "      <td>16061.0</td>\n",
       "      <td>102.0</td>\n",
       "    </tr>\n",
       "    <tr>\n",
       "      <th>3816</th>\n",
       "      <td>3817.0</td>\n",
       "      <td>2003.0</td>\n",
       "      <td>5.3</td>\n",
       "      <td>47.0</td>\n",
       "      <td>33688.0</td>\n",
       "      <td>116.0</td>\n",
       "    </tr>\n",
       "    <tr>\n",
       "      <th>5384</th>\n",
       "      <td>5385.0</td>\n",
       "      <td>1980.0</td>\n",
       "      <td>6.7</td>\n",
       "      <td>58.0</td>\n",
       "      <td>18517.0</td>\n",
       "      <td>103.0</td>\n",
       "    </tr>\n",
       "    <tr>\n",
       "      <th>1058</th>\n",
       "      <td>1059.0</td>\n",
       "      <td>1998.0</td>\n",
       "      <td>6.7</td>\n",
       "      <td>63.0</td>\n",
       "      <td>152346.0</td>\n",
       "      <td>136.0</td>\n",
       "    </tr>\n",
       "    <tr>\n",
       "      <th>...</th>\n",
       "      <td>...</td>\n",
       "      <td>...</td>\n",
       "      <td>...</td>\n",
       "      <td>...</td>\n",
       "      <td>...</td>\n",
       "      <td>...</td>\n",
       "    </tr>\n",
       "    <tr>\n",
       "      <th>9623</th>\n",
       "      <td>9624.0</td>\n",
       "      <td>1994.0</td>\n",
       "      <td>6.6</td>\n",
       "      <td>58.0</td>\n",
       "      <td>6425.0</td>\n",
       "      <td>108.0</td>\n",
       "    </tr>\n",
       "    <tr>\n",
       "      <th>2687</th>\n",
       "      <td>2688.0</td>\n",
       "      <td>2003.0</td>\n",
       "      <td>5.6</td>\n",
       "      <td>28.0</td>\n",
       "      <td>56578.0</td>\n",
       "      <td>116.0</td>\n",
       "    </tr>\n",
       "    <tr>\n",
       "      <th>2346</th>\n",
       "      <td>2347.0</td>\n",
       "      <td>1988.0</td>\n",
       "      <td>6.8</td>\n",
       "      <td>29.0</td>\n",
       "      <td>67287.0</td>\n",
       "      <td>92.0</td>\n",
       "    </tr>\n",
       "    <tr>\n",
       "      <th>384</th>\n",
       "      <td>385.0</td>\n",
       "      <td>1990.0</td>\n",
       "      <td>7.6</td>\n",
       "      <td>60.0</td>\n",
       "      <td>317490.0</td>\n",
       "      <td>162.0</td>\n",
       "    </tr>\n",
       "    <tr>\n",
       "      <th>949</th>\n",
       "      <td>950.0</td>\n",
       "      <td>2004.0</td>\n",
       "      <td>6.6</td>\n",
       "      <td>46.0</td>\n",
       "      <td>165410.0</td>\n",
       "      <td>96.0</td>\n",
       "    </tr>\n",
       "  </tbody>\n",
       "</table>\n",
       "<p>747 rows × 6 columns</p>\n",
       "</div>"
      ],
      "text/plain": [
       "        Rank    Year  Score  Metascore      Vote  Runtime\n",
       "733    734.0  2007.0    6.3       68.0  204005.0     86.0\n",
       "5851  5852.0  2003.0    5.2       21.0   16061.0    102.0\n",
       "3816  3817.0  2003.0    5.3       47.0   33688.0    116.0\n",
       "5384  5385.0  1980.0    6.7       58.0   18517.0    103.0\n",
       "1058  1059.0  1998.0    6.7       63.0  152346.0    136.0\n",
       "...      ...     ...    ...        ...       ...      ...\n",
       "9623  9624.0  1994.0    6.6       58.0    6425.0    108.0\n",
       "2687  2688.0  2003.0    5.6       28.0   56578.0    116.0\n",
       "2346  2347.0  1988.0    6.8       29.0   67287.0     92.0\n",
       "384    385.0  1990.0    7.6       60.0  317490.0    162.0\n",
       "949    950.0  2004.0    6.6       46.0  165410.0     96.0\n",
       "\n",
       "[747 rows x 6 columns]"
      ]
     },
     "execution_count": 67,
     "metadata": {},
     "output_type": "execute_result"
    }
   ],
   "source": [
    "movies_tr"
   ]
  },
  {
   "cell_type": "markdown",
   "metadata": {},
   "source": [
    "Therefore lot's of information, which is in the dataset has not yet been used, e.g. \"Genre\", \"Director\". These information could have an positive impact on the correctness of the predictions.  \n",
    "\n",
    "But as \"Genre\" has 486 different values it is a bit more complicated to treat them as \"categorial\" values:"
   ]
  },
  {
   "cell_type": "code",
   "execution_count": 68,
   "metadata": {},
   "outputs": [
    {
     "data": {
      "text/plain": [
       "Comedy, Drama, Romance     494\n",
       "Drama                      482\n",
       "Comedy, Drama              407\n",
       "Drama, Romance             365\n",
       "Comedy                     357\n",
       "                          ... \n",
       "Action, Fantasy, War         1\n",
       "War                          1\n",
       "Musical, Romance, War        1\n",
       "Comedy, Romance, Family      1\n",
       "Crime, Drama, Western        1\n",
       "Name: Genre, Length: 486, dtype: int64"
      ]
     },
     "execution_count": 68,
     "metadata": {},
     "output_type": "execute_result"
    }
   ],
   "source": [
    "movies['Genre'].value_counts()"
   ]
  },
  {
   "cell_type": "markdown",
   "metadata": {},
   "source": [
    "As already mentionned right in the beginning of this Jupyter-Notebook the \"OneHotEncoder\" could be used. But before we should work on these 486 categorial values: could we simplify it, e.g. extract \"Drama\" and use it as a separate criteria? I will do this in another notebook. "
   ]
  },
  {
   "cell_type": "code",
   "execution_count": null,
   "metadata": {},
   "outputs": [],
   "source": []
  }
 ],
 "metadata": {
  "kernelspec": {
   "display_name": "Python 3",
   "language": "python",
   "name": "python3"
  },
  "language_info": {
   "codemirror_mode": {
    "name": "ipython",
    "version": 3
   },
   "file_extension": ".py",
   "mimetype": "text/x-python",
   "name": "python",
   "nbconvert_exporter": "python",
   "pygments_lexer": "ipython3",
   "version": "3.8.5"
  }
 },
 "nbformat": 4,
 "nbformat_minor": 4
}
